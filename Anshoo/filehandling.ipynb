{
 "cells": [
  {
   "cell_type": "code",
   "execution_count": 1,
   "metadata": {},
   "outputs": [
    {
     "name": "stdout",
     "output_type": "stream",
     "text": [
      "2940\n"
     ]
    }
   ],
   "source": [
    "import os\n",
    "import numpy as np\n",
    "from PIL import Image\n",
    "import matplotlib.pyplot as plt\n",
    "\n",
    "def dict_walk(base_dir):\n",
    "    datas = []\n",
    "    for i, j, k in os.walk(base_dir):\n",
    "        \n",
    "        for img in k:\n",
    "            name = img.split('.')[0]\n",
    "            Number = name[:4]\n",
    "            expression = name[4:6]\n",
    "            angle = name[6:]\n",
    "#             print(Number, expression, angle)\n",
    "            switch_expression = {\n",
    "                \"AF\": 0,\n",
    "                \"AN\": 1,\n",
    "                \"DI\": 2,\n",
    "                \"HA\": 3,\n",
    "                \"NE\": 4,\n",
    "                \"SA\": 5,\n",
    "                \"SU\": 6\n",
    "            }\n",
    "            switch_angle = {\n",
    "                \"FL\": 3,\n",
    "                \"FR\": 4,\n",
    "                \"HL\": 1,\n",
    "                \"HR\": 2,\n",
    "                \"S\" : 0\n",
    "            }\n",
    "            if(angle == \"FL\" or angle == \"FR\"):\n",
    "                continue\n",
    "            else:\n",
    "                data =  Number + '/' + img + ',' + \\\n",
    "                        str(switch_expression[expression]) + ',' + \\\n",
    "                        str(switch_angle[angle])\n",
    "                datas.append(data)\n",
    "#             print(data)\n",
    "    return datas\n",
    "\n",
    "def save_file(file_name, rows):\n",
    "    file = open(file_name, 'w', encoding='utf-8')\n",
    "    \n",
    "    for row in rows:\n",
    "        file.write(row+\"\\n\")\n",
    "    file.close()\n",
    "\n",
    "if __name__ == '__main__':\n",
    "\n",
    "    base_dir = 'KDEF_and_AKDEF/KDEF/'\n",
    "    datas = dict_walk(base_dir)\n",
    "    print(len(datas))\n",
    "    save_file('allDatas.txt', datas)"
   ]
  },
  {
   "cell_type": "code",
   "execution_count": 3,
   "metadata": {},
   "outputs": [
    {
     "name": "stdout",
     "output_type": "stream",
     "text": [
      "2940\n",
      "Copied Images\n"
     ]
    }
   ],
   "source": [
    "import keras\n",
    "import os\n",
    "from keras.preprocessing import image\n",
    "import numpy as np\n",
    "import shutil\n",
    "\n",
    "base_dir = 'KDEF_and_AKDEF/KDEF/'\n",
    "\n",
    "def read(filename):\n",
    "    data = []\n",
    "    file = open(filename, 'r')\n",
    "    for line in file:\n",
    "        data.append(line.replace('\\n',''))\n",
    "    file.close()\n",
    "    return data\n",
    "\n",
    "def seperate_description(data):\n",
    "    path = [i.split(',')[0] for i in data]\n",
    "    expression = [i.split(',')[1] for i in data]\n",
    "    angle = [i.split(',')[2] for i in data]\n",
    "    return path, expression, angle\n",
    "\n",
    "def make_dir(dir, label_range):\n",
    "    for i in label_range:\n",
    "        i_dir = os.path.join(dir, str(i))\n",
    "        if not os.path.exists(i_dir):\n",
    "            os.mkdir(i_dir)\n",
    "\n",
    "def move_images_to_dir(dir, data, label):\n",
    "    for path, expression in zip(data, label):\n",
    "        file = path.split('/')[1]\n",
    "        src = os.path.join(base_dir,path)\n",
    "        dst = os.path.join(dir, str(expression), file)\n",
    "        shutil.copyfile(src, dst)\n",
    "\n",
    "if __name__ == '__main__':\n",
    "    data = read('allDatas.txt')\n",
    "    print(len(data))\n",
    "    data, label, angle = seperate_description(data)\n",
    "    \n",
    "    data_dir='data/'\n",
    "    if not os.path.exists(data_dir):\n",
    "        os.mkdir(data_dir)\n",
    "    label_range = np.unique(label)\n",
    "    make_dir(data_dir, label_range)\n",
    "    move_images_to_dir(data_dir, data, label)\n",
    "    print(\"Copied Images\")"
   ]
  },
  {
   "cell_type": "code",
   "execution_count": null,
   "metadata": {},
   "outputs": [],
   "source": []
  }
 ],
 "metadata": {
  "kernelspec": {
   "display_name": "Python 3",
   "language": "python",
   "name": "python3"
  },
  "language_info": {
   "codemirror_mode": {
    "name": "ipython",
    "version": 3
   },
   "file_extension": ".py",
   "mimetype": "text/x-python",
   "name": "python",
   "nbconvert_exporter": "python",
   "pygments_lexer": "ipython3",
   "version": "3.8.5"
  }
 },
 "nbformat": 4,
 "nbformat_minor": 4
}
