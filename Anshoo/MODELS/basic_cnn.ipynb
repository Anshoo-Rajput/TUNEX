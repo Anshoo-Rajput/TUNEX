{
  "nbformat": 4,
  "nbformat_minor": 0,
  "metadata": {
    "colab": {
      "name": "Untitled6.ipynb",
      "provenance": [],
      "collapsed_sections": []
    },
    "kernelspec": {
      "name": "python3",
      "display_name": "Python 3"
    },
    "accelerator": "GPU"
  },
  "cells": [
    {
      "cell_type": "code",
      "metadata": {
        "id": "Ek7gpr6u5d-3"
      },
      "source": [
        "import numpy as np\r\n",
        "import os\r\n",
        "import PIL\r\n",
        "import PIL.Image\r\n",
        "import tensorflow as tf\r\n",
        "import tensorflow_datasets as tfds"
      ],
      "execution_count": 1,
      "outputs": []
    },
    {
      "cell_type": "code",
      "metadata": {
        "id": "ULO3BwL_8Na3"
      },
      "source": [
        "data_dir = '/content/drive/MyDrive/main'\r\n",
        "batch_size = 32\r\n",
        "img_height = 180\r\n",
        "img_width = 180"
      ],
      "execution_count": 2,
      "outputs": []
    },
    {
      "cell_type": "code",
      "metadata": {
        "colab": {
          "base_uri": "https://localhost:8080/"
        },
        "id": "GXq9vByh-Dh7",
        "outputId": "41e82320-d403-40bf-f912-9415c0d94794"
      },
      "source": [
        "train_ds = tf.keras.preprocessing.image_dataset_from_directory(\r\n",
        "  data_dir,\r\n",
        "  validation_split=0.2,\r\n",
        "  subset=\"training\",\r\n",
        "  seed=123,\r\n",
        "  image_size=(img_height, img_width),\r\n",
        "  batch_size=batch_size)"
      ],
      "execution_count": 3,
      "outputs": [
        {
          "output_type": "stream",
          "text": [
            "Found 17676 files belonging to 7 classes.\n",
            "Using 14141 files for training.\n"
          ],
          "name": "stdout"
        }
      ]
    },
    {
      "cell_type": "code",
      "metadata": {
        "colab": {
          "base_uri": "https://localhost:8080/"
        },
        "id": "gBFkkc5LJx4S",
        "outputId": "a97cc1b1-6a8d-4906-a764-d143bb8eb4a8"
      },
      "source": [
        "train_ds"
      ],
      "execution_count": 4,
      "outputs": [
        {
          "output_type": "execute_result",
          "data": {
            "text/plain": [
              "<BatchDataset shapes: ((None, 180, 180, 3), (None,)), types: (tf.float32, tf.int32)>"
            ]
          },
          "metadata": {
            "tags": []
          },
          "execution_count": 4
        }
      ]
    },
    {
      "cell_type": "code",
      "metadata": {
        "colab": {
          "base_uri": "https://localhost:8080/"
        },
        "id": "uT3vSGLW-ISm",
        "outputId": "874e7a4b-88b1-48ba-d76d-d497b651ee51"
      },
      "source": [
        "val_ds = tf.keras.preprocessing.image_dataset_from_directory(\r\n",
        "  data_dir,\r\n",
        "  validation_split=0.2,\r\n",
        "  subset=\"validation\",\r\n",
        "  seed=123,\r\n",
        "  image_size=(img_height, img_width),\r\n",
        "  batch_size=batch_size)"
      ],
      "execution_count": 5,
      "outputs": [
        {
          "output_type": "stream",
          "text": [
            "Found 17676 files belonging to 7 classes.\n",
            "Using 3535 files for validation.\n"
          ],
          "name": "stdout"
        }
      ]
    },
    {
      "cell_type": "code",
      "metadata": {
        "colab": {
          "base_uri": "https://localhost:8080/"
        },
        "id": "2k7MJ3pJ-Yv3",
        "outputId": "e3facb51-10f6-4bdc-c6f0-689eed5e32d4"
      },
      "source": [
        "class_names = train_ds.class_names\r\n",
        "print(class_names)"
      ],
      "execution_count": 6,
      "outputs": [
        {
          "output_type": "stream",
          "text": [
            "['0', '1', '2', '3', '4', '5', '6']\n"
          ],
          "name": "stdout"
        }
      ]
    },
    {
      "cell_type": "code",
      "metadata": {
        "colab": {
          "base_uri": "https://localhost:8080/"
        },
        "id": "ovjkNqh65T9q",
        "outputId": "6005f8c5-3b72-418d-bfbf-2f0f612dc121"
      },
      "source": [
        "for image_batch, labels_batch in train_ds:\r\n",
        "  print(image_batch.shape)\r\n",
        "  print(labels_batch.shape)\r\n",
        "  break"
      ],
      "execution_count": 7,
      "outputs": [
        {
          "output_type": "stream",
          "text": [
            "(32, 180, 180, 3)\n",
            "(32,)\n"
          ],
          "name": "stdout"
        }
      ]
    },
    {
      "cell_type": "code",
      "metadata": {
        "id": "LuaDtNMMCEdR"
      },
      "source": [
        "from tensorflow.keras import layers\r\n",
        "\r\n",
        "normalization_layer = tf.keras.layers.experimental.preprocessing.Rescaling(1./255)"
      ],
      "execution_count": 8,
      "outputs": []
    },
    {
      "cell_type": "code",
      "metadata": {
        "colab": {
          "base_uri": "https://localhost:8080/"
        },
        "id": "zwLnJgPy5e4g",
        "outputId": "9c8b2852-c8ab-4606-8bda-85a6b3e6a94d"
      },
      "source": [
        "normalized_ds = train_ds.map(lambda x, y: (normalization_layer(x), y))\r\n",
        "image_batch, labels_batch = next(iter(normalized_ds))\r\n",
        "first_image = image_batch[0]\r\n",
        "# Notice the pixels values are now in `[0,1]`.\r\n",
        "print(np.min(first_image), np.max(first_image))"
      ],
      "execution_count": 9,
      "outputs": [
        {
          "output_type": "stream",
          "text": [
            "0.0 0.6561441\n"
          ],
          "name": "stdout"
        }
      ]
    },
    {
      "cell_type": "code",
      "metadata": {
        "id": "lKLdcbSl5eHH"
      },
      "source": [
        "AUTOTUNE = tf.data.experimental.AUTOTUNE\r\n",
        "\r\n",
        "train_ds = train_ds.cache().prefetch(buffer_size=AUTOTUNE)\r\n",
        "val_ds = val_ds.cache().prefetch(buffer_size=AUTOTUNE)"
      ],
      "execution_count": 10,
      "outputs": []
    },
    {
      "cell_type": "code",
      "metadata": {
        "id": "YEwl2PavEB2-"
      },
      "source": [
        "num_classes = 7\r\n",
        "\r\n",
        "model = tf.keras.Sequential([\r\n",
        "  layers.experimental.preprocessing.Rescaling(1./255),\r\n",
        "  layers.Conv2D(32, 3, activation='relu'),\r\n",
        "  layers.MaxPooling2D(),\r\n",
        "  layers.Conv2D(32, 3, activation='relu'),\r\n",
        "  layers.MaxPooling2D(),\r\n",
        "  layers.Conv2D(32, 3, activation='relu'),\r\n",
        "  layers.MaxPooling2D(),\r\n",
        "  layers.Flatten(),\r\n",
        "  layers.Dropout(0.2),\r\n",
        "  layers.Dense(128, activation='relu'),\r\n",
        "  layers.Dense(64, activation='relu'),\r\n",
        "  layers.Dropout(0.2),\r\n",
        "  layers.Dense(32, activation='relu'),\r\n",
        "  layers.Dense(num_classes)\r\n",
        "])"
      ],
      "execution_count": 12,
      "outputs": []
    },
    {
      "cell_type": "code",
      "metadata": {
        "id": "1NLx_4JwEy1u"
      },
      "source": [
        "model.compile(\r\n",
        "  optimizer='adam',\r\n",
        "  loss=tf.losses.SparseCategoricalCrossentropy(from_logits=True),\r\n",
        "  metrics=['accuracy'])"
      ],
      "execution_count": 13,
      "outputs": []
    },
    {
      "cell_type": "code",
      "metadata": {
        "colab": {
          "base_uri": "https://localhost:8080/"
        },
        "id": "vmsME3XT60xo",
        "outputId": "0cc562eb-5616-4b99-c385-c4b598d3ba26"
      },
      "source": [
        "model.fit(\r\n",
        "  train_ds,\r\n",
        "  validation_data=val_ds,\r\n",
        "  epochs=20\r\n",
        ")"
      ],
      "execution_count": 14,
      "outputs": [
        {
          "output_type": "stream",
          "text": [
            "Epoch 1/20\n",
            "442/442 [==============================] - 8865s 20s/step - loss: 1.8781 - accuracy: 0.2015 - val_loss: 1.1416 - val_accuracy: 0.5689\n",
            "Epoch 2/20\n",
            "442/442 [==============================] - 10s 22ms/step - loss: 1.1035 - accuracy: 0.5706 - val_loss: 0.7746 - val_accuracy: 0.6987\n",
            "Epoch 3/20\n",
            "442/442 [==============================] - 10s 22ms/step - loss: 0.7647 - accuracy: 0.6941 - val_loss: 0.6185 - val_accuracy: 0.7740\n",
            "Epoch 4/20\n",
            "442/442 [==============================] - 10s 22ms/step - loss: 0.5902 - accuracy: 0.7731 - val_loss: 0.4937 - val_accuracy: 0.8238\n",
            "Epoch 5/20\n",
            "442/442 [==============================] - 10s 22ms/step - loss: 0.4355 - accuracy: 0.8380 - val_loss: 0.4126 - val_accuracy: 0.8467\n",
            "Epoch 6/20\n",
            "442/442 [==============================] - 10s 22ms/step - loss: 0.3354 - accuracy: 0.8765 - val_loss: 0.3599 - val_accuracy: 0.8736\n",
            "Epoch 7/20\n",
            "442/442 [==============================] - 10s 22ms/step - loss: 0.2569 - accuracy: 0.9079 - val_loss: 0.3313 - val_accuracy: 0.8871\n",
            "Epoch 8/20\n",
            "442/442 [==============================] - 10s 22ms/step - loss: 0.2264 - accuracy: 0.9182 - val_loss: 0.2995 - val_accuracy: 0.9072\n",
            "Epoch 9/20\n",
            "442/442 [==============================] - 10s 22ms/step - loss: 0.1822 - accuracy: 0.9375 - val_loss: 0.2848 - val_accuracy: 0.9103\n",
            "Epoch 10/20\n",
            "442/442 [==============================] - 10s 22ms/step - loss: 0.1533 - accuracy: 0.9469 - val_loss: 0.2521 - val_accuracy: 0.9222\n",
            "Epoch 11/20\n",
            "442/442 [==============================] - 10s 22ms/step - loss: 0.1280 - accuracy: 0.9548 - val_loss: 0.2607 - val_accuracy: 0.9250\n",
            "Epoch 12/20\n",
            "442/442 [==============================] - 10s 22ms/step - loss: 0.1163 - accuracy: 0.9606 - val_loss: 0.2396 - val_accuracy: 0.9366\n",
            "Epoch 13/20\n",
            "442/442 [==============================] - 10s 22ms/step - loss: 0.1115 - accuracy: 0.9610 - val_loss: 0.2299 - val_accuracy: 0.9397\n",
            "Epoch 14/20\n",
            "442/442 [==============================] - 10s 22ms/step - loss: 0.0859 - accuracy: 0.9719 - val_loss: 0.2432 - val_accuracy: 0.9423\n",
            "Epoch 15/20\n",
            "442/442 [==============================] - 10s 22ms/step - loss: 0.0936 - accuracy: 0.9655 - val_loss: 0.2546 - val_accuracy: 0.9366\n",
            "Epoch 16/20\n",
            "442/442 [==============================] - 10s 22ms/step - loss: 0.0812 - accuracy: 0.9715 - val_loss: 0.2547 - val_accuracy: 0.9310\n",
            "Epoch 17/20\n",
            "442/442 [==============================] - 10s 22ms/step - loss: 0.0765 - accuracy: 0.9758 - val_loss: 0.2434 - val_accuracy: 0.9437\n",
            "Epoch 18/20\n",
            "442/442 [==============================] - 10s 22ms/step - loss: 0.0804 - accuracy: 0.9742 - val_loss: 0.2320 - val_accuracy: 0.9454\n",
            "Epoch 19/20\n",
            "442/442 [==============================] - 10s 22ms/step - loss: 0.0777 - accuracy: 0.9738 - val_loss: 0.2573 - val_accuracy: 0.9412\n",
            "Epoch 20/20\n",
            "442/442 [==============================] - 10s 22ms/step - loss: 0.0723 - accuracy: 0.9754 - val_loss: 0.2150 - val_accuracy: 0.9479\n"
          ],
          "name": "stdout"
        },
        {
          "output_type": "execute_result",
          "data": {
            "text/plain": [
              "<tensorflow.python.keras.callbacks.History at 0x7f908d016518>"
            ]
          },
          "metadata": {
            "tags": []
          },
          "execution_count": 14
        }
      ]
    },
    {
      "cell_type": "code",
      "metadata": {
        "id": "sJbEvpWMepQx"
      },
      "source": [
        "model.save('drive/MyDrive/Model/2', save_format='h5')"
      ],
      "execution_count": 15,
      "outputs": []
    },
    {
      "cell_type": "code",
      "metadata": {
        "id": "xAxrmMsMewsI",
        "colab": {
          "base_uri": "https://localhost:8080/"
        },
        "outputId": "c3629977-5ddc-4652-c8d7-b4bb1a1a5e58"
      },
      "source": [
        "model.fit(\n",
        "  train_ds,\n",
        "  validation_data=val_ds,\n",
        "  epochs=5\n",
        ")"
      ],
      "execution_count": 16,
      "outputs": [
        {
          "output_type": "stream",
          "text": [
            "Epoch 1/5\n",
            "442/442 [==============================] - 10s 22ms/step - loss: 0.0686 - accuracy: 0.9765 - val_loss: 0.2136 - val_accuracy: 0.9539\n",
            "Epoch 2/5\n",
            "442/442 [==============================] - 10s 22ms/step - loss: 0.0651 - accuracy: 0.9780 - val_loss: 0.2003 - val_accuracy: 0.9598\n",
            "Epoch 3/5\n",
            "442/442 [==============================] - 10s 22ms/step - loss: 0.0690 - accuracy: 0.9782 - val_loss: 0.2106 - val_accuracy: 0.9528\n",
            "Epoch 4/5\n",
            "442/442 [==============================] - 10s 22ms/step - loss: 0.0532 - accuracy: 0.9813 - val_loss: 0.2540 - val_accuracy: 0.9468\n",
            "Epoch 5/5\n",
            "442/442 [==============================] - 10s 22ms/step - loss: 0.0555 - accuracy: 0.9818 - val_loss: 0.2420 - val_accuracy: 0.9471\n"
          ],
          "name": "stdout"
        },
        {
          "output_type": "execute_result",
          "data": {
            "text/plain": [
              "<tensorflow.python.keras.callbacks.History at 0x7f90803c8908>"
            ]
          },
          "metadata": {
            "tags": []
          },
          "execution_count": 16
        }
      ]
    },
    {
      "cell_type": "code",
      "metadata": {
        "colab": {
          "base_uri": "https://localhost:8080/"
        },
        "id": "8SjkO81z5QF6",
        "outputId": "81a79eb6-3c63-40a9-ea32-4a33af77cee6"
      },
      "source": [
        "model.fit(\n",
        "  train_ds,\n",
        "  validation_data=val_ds,\n",
        "  epochs=5\n",
        ")"
      ],
      "execution_count": 17,
      "outputs": [
        {
          "output_type": "stream",
          "text": [
            "Epoch 1/5\n",
            "442/442 [==============================] - 10s 22ms/step - loss: 0.0586 - accuracy: 0.9791 - val_loss: 0.2662 - val_accuracy: 0.9434\n",
            "Epoch 2/5\n",
            "442/442 [==============================] - 10s 22ms/step - loss: 0.0481 - accuracy: 0.9822 - val_loss: 0.2538 - val_accuracy: 0.9525\n",
            "Epoch 3/5\n",
            "442/442 [==============================] - 10s 22ms/step - loss: 0.0530 - accuracy: 0.9828 - val_loss: 0.2566 - val_accuracy: 0.9511\n",
            "Epoch 4/5\n",
            "442/442 [==============================] - 10s 22ms/step - loss: 0.0605 - accuracy: 0.9803 - val_loss: 0.2233 - val_accuracy: 0.9559\n",
            "Epoch 5/5\n",
            "442/442 [==============================] - 10s 22ms/step - loss: 0.0498 - accuracy: 0.9827 - val_loss: 0.2000 - val_accuracy: 0.9579\n"
          ],
          "name": "stdout"
        },
        {
          "output_type": "execute_result",
          "data": {
            "text/plain": [
              "<tensorflow.python.keras.callbacks.History at 0x7f90803c8828>"
            ]
          },
          "metadata": {
            "tags": []
          },
          "execution_count": 17
        }
      ]
    },
    {
      "cell_type": "code",
      "metadata": {
        "id": "WqAybNPs5fZH"
      },
      "source": [
        "model.save('drive/MyDrive/Model/3', save_format='h5')"
      ],
      "execution_count": 18,
      "outputs": []
    },
    {
      "cell_type": "code",
      "metadata": {
        "id": "ohDAei2-6kA7"
      },
      "source": [
        ""
      ],
      "execution_count": null,
      "outputs": []
    }
  ]
}