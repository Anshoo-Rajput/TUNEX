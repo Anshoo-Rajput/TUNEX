{
 "cells": [
  {
   "cell_type": "code",
   "execution_count": null,
   "metadata": {
    "id": "Tt8UsGnv_8xF"
   },
   "outputs": [],
   "source": [
    "from keras.preprocessing.image import ImageDataGenerator\n",
    "from keras.layers import Dense, Input, Dropout, GlobalAveragePooling2D, Flatten, Conv2D, BatchNormalization, Activation, MaxPooling2D\n",
    "from keras.models import Model, Sequential\n",
    "from keras.optimizers import Adam\n",
    "from keras.callbacks import ModelCheckpoint\n",
    "import matplotlib.pyplot as plt"
   ]
  },
  {
   "cell_type": "code",
   "execution_count": null,
   "metadata": {
    "id": "1c05YvhC91XK"
   },
   "outputs": [],
   "source": [
    "dir = \"/content/drive/MyDrive/images/\""
   ]
  },
  {
   "cell_type": "code",
   "execution_count": null,
   "metadata": {
    "colab": {
     "base_uri": "https://localhost:8080/"
    },
    "id": "q-Qa3_yZ9idy",
    "outputId": "01d6ee91-5baf-4bdb-efb8-aebe5e1f1e5c"
   },
   "outputs": [
    {
     "name": "stdout",
     "output_type": "stream",
     "text": [
      "Found 28821 images belonging to 7 classes.\n",
      "Found 7066 images belonging to 7 classes.\n"
     ]
    }
   ],
   "source": [
    "# number of images to feed into the NN for every batch\n",
    "batch_size = 128\n",
    "\n",
    "datagen_train = ImageDataGenerator()\n",
    "datagen_validation = ImageDataGenerator()\n",
    "\n",
    "train_generator = datagen_train.flow_from_directory(dir + \"train\",\n",
    "                                                    target_size=(48,48),\n",
    "                                                    color_mode=\"grayscale\",\n",
    "                                                    batch_size=batch_size,\n",
    "                                                    class_mode='categorical',\n",
    "                                                    shuffle=True)\n",
    "\n",
    "validation_generator = datagen_validation.flow_from_directory(dir + \"validation\",\n",
    "                                                    target_size=(48,48),\n",
    "                                                    color_mode=\"grayscale\",\n",
    "                                                    batch_size=batch_size,\n",
    "                                                    class_mode='categorical',\n",
    "                                                    shuffle=False)"
   ]
  },
  {
   "cell_type": "code",
   "execution_count": null,
   "metadata": {
    "id": "Jjs4dLLi9ia7"
   },
   "outputs": [],
   "source": [
    "nb_classes = 7\n",
    "\n",
    "model = Sequential()\n",
    "\n",
    "model.add(Conv2D(64,(3,3), padding='same', input_shape=(48, 48,1)))\n",
    "model.add(BatchNormalization())\n",
    "model.add(Activation('relu'))\n",
    "model.add(MaxPooling2D(pool_size=(2, 2)))\n",
    "model.add(Dropout(0.25))\n",
    "\n",
    "model.add(Conv2D(128,(5,5), padding='same'))\n",
    "model.add(BatchNormalization())\n",
    "model.add(Activation('relu'))\n",
    "model.add(MaxPooling2D(pool_size=(2, 2)))\n",
    "model.add(Dropout(0.25))\n",
    "\n",
    "model.add(Conv2D(512,(3,3), padding='same'))\n",
    "model.add(BatchNormalization())\n",
    "model.add(Activation('relu'))\n",
    "model.add(MaxPooling2D(pool_size=(2, 2)))\n",
    "model.add(Dropout(0.25))\n",
    "\n",
    "model.add(Conv2D(512,(3,3), padding='same'))\n",
    "model.add(BatchNormalization())\n",
    "model.add(Activation('relu'))\n",
    "model.add(MaxPooling2D(pool_size=(2, 2)))\n",
    "model.add(Dropout(0.25))\n",
    "\n",
    "model.add(Flatten())\n",
    "\n",
    "model.add(Dense(256))\n",
    "model.add(BatchNormalization())\n",
    "model.add(Activation('relu'))\n",
    "model.add(Dropout(0.25))\n",
    "\n",
    "model.add(Dense(512))\n",
    "model.add(BatchNormalization())\n",
    "model.add(Activation('relu'))\n",
    "model.add(Dropout(0.25))\n",
    "\n",
    "model.add(Dense(nb_classes, activation='softmax'))\n",
    "\n",
    "opt = Adam(lr=0.0001)\n",
    "model.compile(optimizer=opt, loss='categorical_crossentropy', metrics=['accuracy'])"
   ]
  },
  {
   "cell_type": "code",
   "execution_count": 6,
   "metadata": {
    "colab": {
     "base_uri": "https://localhost:8080/"
    },
    "id": "PSf6eYgR9iYh",
    "outputId": "758271a9-6b93-4e61-da74-8abfb0518aa1"
   },
   "outputs": [
    {
     "name": "stderr",
     "output_type": "stream",
     "text": [
      "/usr/local/lib/python3.6/dist-packages/tensorflow/python/keras/engine/training.py:1844: UserWarning: `Model.fit_generator` is deprecated and will be removed in a future version. Please use `Model.fit`, which supports generators.\n",
      "  warnings.warn('`Model.fit_generator` is deprecated and '\n"
     ]
    },
    {
     "name": "stdout",
     "output_type": "stream",
     "text": [
      "Epoch 1/60\n",
      "225/225 [==============================] - 13446s 60s/step - loss: 2.1665 - accuracy: 0.1944 - val_loss: 1.7115 - val_accuracy: 0.3195\n",
      "INFO:tensorflow:Assets written to: /content/drive/MyDrive/Model/kaggle/1/assets\n",
      "Epoch 2/60\n",
      "225/225 [==============================] - 39s 171ms/step - loss: 1.8687 - accuracy: 0.2754 - val_loss: 1.7072 - val_accuracy: 0.3199\n",
      "INFO:tensorflow:Assets written to: /content/drive/MyDrive/Model/kaggle/1/assets\n",
      "Epoch 3/60\n",
      "225/225 [==============================] - 38s 167ms/step - loss: 1.7603 - accuracy: 0.3272 - val_loss: 1.6361 - val_accuracy: 0.3656\n",
      "INFO:tensorflow:Assets written to: /content/drive/MyDrive/Model/kaggle/1/assets\n",
      "Epoch 4/60\n",
      "225/225 [==============================] - 38s 168ms/step - loss: 1.6714 - accuracy: 0.3579 - val_loss: 1.6408 - val_accuracy: 0.3841\n",
      "INFO:tensorflow:Assets written to: /content/drive/MyDrive/Model/kaggle/1/assets\n",
      "Epoch 5/60\n",
      "225/225 [==============================] - 38s 168ms/step - loss: 1.6153 - accuracy: 0.3789 - val_loss: 1.7071 - val_accuracy: 0.3814\n",
      "Epoch 6/60\n",
      "225/225 [==============================] - 38s 168ms/step - loss: 1.5445 - accuracy: 0.4048 - val_loss: 1.6611 - val_accuracy: 0.3903\n",
      "INFO:tensorflow:Assets written to: /content/drive/MyDrive/Model/kaggle/1/assets\n",
      "Epoch 7/60\n",
      "225/225 [==============================] - 37s 164ms/step - loss: 1.4994 - accuracy: 0.4263 - val_loss: 1.6401 - val_accuracy: 0.4115\n",
      "INFO:tensorflow:Assets written to: /content/drive/MyDrive/Model/kaggle/1/assets\n",
      "Epoch 8/60\n",
      "225/225 [==============================] - 37s 166ms/step - loss: 1.4563 - accuracy: 0.4401 - val_loss: 1.5507 - val_accuracy: 0.4330\n",
      "INFO:tensorflow:Assets written to: /content/drive/MyDrive/Model/kaggle/1/assets\n",
      "Epoch 9/60\n",
      "225/225 [==============================] - 37s 166ms/step - loss: 1.3965 - accuracy: 0.4632 - val_loss: 1.3739 - val_accuracy: 0.4787\n",
      "INFO:tensorflow:Assets written to: /content/drive/MyDrive/Model/kaggle/1/assets\n",
      "Epoch 10/60\n",
      "225/225 [==============================] - 38s 168ms/step - loss: 1.3813 - accuracy: 0.4706 - val_loss: 1.5195 - val_accuracy: 0.4523\n",
      "Epoch 11/60\n",
      "225/225 [==============================] - 37s 165ms/step - loss: 1.3487 - accuracy: 0.4873 - val_loss: 1.3074 - val_accuracy: 0.4979\n",
      "INFO:tensorflow:Assets written to: /content/drive/MyDrive/Model/kaggle/1/assets\n",
      "Epoch 12/60\n",
      "225/225 [==============================] - 37s 166ms/step - loss: 1.3160 - accuracy: 0.4948 - val_loss: 1.2584 - val_accuracy: 0.5138\n",
      "INFO:tensorflow:Assets written to: /content/drive/MyDrive/Model/kaggle/1/assets\n",
      "Epoch 13/60\n",
      "225/225 [==============================] - 38s 169ms/step - loss: 1.2702 - accuracy: 0.5160 - val_loss: 1.2675 - val_accuracy: 0.5143\n",
      "INFO:tensorflow:Assets written to: /content/drive/MyDrive/Model/kaggle/1/assets\n",
      "Epoch 14/60\n",
      "225/225 [==============================] - 37s 166ms/step - loss: 1.2481 - accuracy: 0.5297 - val_loss: 1.2068 - val_accuracy: 0.5398\n",
      "INFO:tensorflow:Assets written to: /content/drive/MyDrive/Model/kaggle/1/assets\n",
      "Epoch 15/60\n",
      "225/225 [==============================] - 37s 166ms/step - loss: 1.2267 - accuracy: 0.5299 - val_loss: 1.1783 - val_accuracy: 0.5548\n",
      "INFO:tensorflow:Assets written to: /content/drive/MyDrive/Model/kaggle/1/assets\n",
      "Epoch 16/60\n",
      "225/225 [==============================] - 37s 165ms/step - loss: 1.2041 - accuracy: 0.5382 - val_loss: 1.1704 - val_accuracy: 0.5582\n",
      "INFO:tensorflow:Assets written to: /content/drive/MyDrive/Model/kaggle/1/assets\n",
      "Epoch 17/60\n",
      "225/225 [==============================] - 37s 165ms/step - loss: 1.1854 - accuracy: 0.5514 - val_loss: 1.2136 - val_accuracy: 0.5435\n",
      "Epoch 18/60\n",
      "225/225 [==============================] - 37s 163ms/step - loss: 1.1541 - accuracy: 0.5647 - val_loss: 1.1391 - val_accuracy: 0.5750\n",
      "INFO:tensorflow:Assets written to: /content/drive/MyDrive/Model/kaggle/1/assets\n",
      "Epoch 19/60\n",
      "225/225 [==============================] - 37s 166ms/step - loss: 1.1399 - accuracy: 0.5675 - val_loss: 1.1671 - val_accuracy: 0.5646\n",
      "Epoch 20/60\n",
      "225/225 [==============================] - 37s 164ms/step - loss: 1.1134 - accuracy: 0.5754 - val_loss: 1.1153 - val_accuracy: 0.5797\n",
      "INFO:tensorflow:Assets written to: /content/drive/MyDrive/Model/kaggle/1/assets\n",
      "Epoch 21/60\n",
      "225/225 [==============================] - 38s 168ms/step - loss: 1.0935 - accuracy: 0.5843 - val_loss: 1.1294 - val_accuracy: 0.5764\n",
      "Epoch 22/60\n",
      "225/225 [==============================] - 37s 164ms/step - loss: 1.0933 - accuracy: 0.5870 - val_loss: 1.1131 - val_accuracy: 0.5800\n",
      "INFO:tensorflow:Assets written to: /content/drive/MyDrive/Model/kaggle/1/assets\n",
      "Epoch 23/60\n",
      "225/225 [==============================] - 37s 165ms/step - loss: 1.0731 - accuracy: 0.5918 - val_loss: 1.0745 - val_accuracy: 0.6006\n",
      "INFO:tensorflow:Assets written to: /content/drive/MyDrive/Model/kaggle/1/assets\n",
      "Epoch 24/60\n",
      "225/225 [==============================] - 37s 166ms/step - loss: 1.0434 - accuracy: 0.6029 - val_loss: 1.0638 - val_accuracy: 0.6043\n",
      "INFO:tensorflow:Assets written to: /content/drive/MyDrive/Model/kaggle/1/assets\n",
      "Epoch 25/60\n",
      "225/225 [==============================] - 37s 165ms/step - loss: 1.0211 - accuracy: 0.6075 - val_loss: 1.0631 - val_accuracy: 0.6060\n",
      "INFO:tensorflow:Assets written to: /content/drive/MyDrive/Model/kaggle/1/assets\n",
      "Epoch 26/60\n",
      "225/225 [==============================] - 37s 165ms/step - loss: 1.0126 - accuracy: 0.6179 - val_loss: 1.0816 - val_accuracy: 0.5970\n",
      "Epoch 27/60\n",
      "225/225 [==============================] - 37s 164ms/step - loss: 1.0111 - accuracy: 0.6158 - val_loss: 1.0432 - val_accuracy: 0.6124\n",
      "INFO:tensorflow:Assets written to: /content/drive/MyDrive/Model/kaggle/1/assets\n",
      "Epoch 28/60\n",
      "225/225 [==============================] - 37s 166ms/step - loss: 0.9718 - accuracy: 0.6369 - val_loss: 1.0616 - val_accuracy: 0.6080\n",
      "Epoch 29/60\n",
      "225/225 [==============================] - 38s 167ms/step - loss: 0.9675 - accuracy: 0.6383 - val_loss: 1.0567 - val_accuracy: 0.6131\n",
      "INFO:tensorflow:Assets written to: /content/drive/MyDrive/Model/kaggle/1/assets\n",
      "Epoch 30/60\n",
      "225/225 [==============================] - 37s 166ms/step - loss: 0.9534 - accuracy: 0.6420 - val_loss: 1.0387 - val_accuracy: 0.6243\n",
      "INFO:tensorflow:Assets written to: /content/drive/MyDrive/Model/kaggle/1/assets\n",
      "Epoch 31/60\n",
      "225/225 [==============================] - 37s 165ms/step - loss: 0.9217 - accuracy: 0.6538 - val_loss: 1.0653 - val_accuracy: 0.6155\n",
      "Epoch 32/60\n",
      "225/225 [==============================] - 37s 164ms/step - loss: 0.9060 - accuracy: 0.6610 - val_loss: 1.0335 - val_accuracy: 0.6220\n",
      "Epoch 33/60\n",
      "225/225 [==============================] - 37s 165ms/step - loss: 0.9091 - accuracy: 0.6574 - val_loss: 1.0910 - val_accuracy: 0.6124\n",
      "Epoch 34/60\n",
      "225/225 [==============================] - 37s 165ms/step - loss: 0.8959 - accuracy: 0.6646 - val_loss: 1.0238 - val_accuracy: 0.6286\n",
      "INFO:tensorflow:Assets written to: /content/drive/MyDrive/Model/kaggle/1/assets\n",
      "Epoch 35/60\n",
      "225/225 [==============================] - 37s 165ms/step - loss: 0.8674 - accuracy: 0.6704 - val_loss: 1.1151 - val_accuracy: 0.6053\n",
      "Epoch 36/60\n",
      "225/225 [==============================] - 37s 165ms/step - loss: 0.8515 - accuracy: 0.6789 - val_loss: 1.0400 - val_accuracy: 0.6291\n",
      "INFO:tensorflow:Assets written to: /content/drive/MyDrive/Model/kaggle/1/assets\n",
      "Epoch 37/60\n",
      "225/225 [==============================] - 38s 169ms/step - loss: 0.8506 - accuracy: 0.6811 - val_loss: 1.0257 - val_accuracy: 0.6349\n",
      "INFO:tensorflow:Assets written to: /content/drive/MyDrive/Model/kaggle/1/assets\n",
      "Epoch 38/60\n",
      "225/225 [==============================] - 37s 164ms/step - loss: 0.8189 - accuracy: 0.6890 - val_loss: 1.0397 - val_accuracy: 0.6278\n",
      "Epoch 39/60\n",
      "225/225 [==============================] - 37s 163ms/step - loss: 0.8123 - accuracy: 0.6940 - val_loss: 1.0438 - val_accuracy: 0.6224\n",
      "Epoch 40/60\n",
      "225/225 [==============================] - 37s 164ms/step - loss: 0.7950 - accuracy: 0.7047 - val_loss: 1.0668 - val_accuracy: 0.6322\n",
      "Epoch 41/60\n",
      "225/225 [==============================] - 36s 162ms/step - loss: 0.7766 - accuracy: 0.7127 - val_loss: 1.0445 - val_accuracy: 0.6423\n",
      "INFO:tensorflow:Assets written to: /content/drive/MyDrive/Model/kaggle/1/assets\n",
      "Epoch 42/60\n",
      "225/225 [==============================] - 37s 164ms/step - loss: 0.7661 - accuracy: 0.7142 - val_loss: 1.0489 - val_accuracy: 0.6314\n",
      "Epoch 43/60\n",
      "225/225 [==============================] - 37s 165ms/step - loss: 0.7555 - accuracy: 0.7140 - val_loss: 1.0215 - val_accuracy: 0.6472\n",
      "INFO:tensorflow:Assets written to: /content/drive/MyDrive/Model/kaggle/1/assets\n",
      "Epoch 44/60\n",
      "225/225 [==============================] - 37s 165ms/step - loss: 0.7465 - accuracy: 0.7180 - val_loss: 1.0245 - val_accuracy: 0.6490\n",
      "INFO:tensorflow:Assets written to: /content/drive/MyDrive/Model/kaggle/1/assets\n",
      "Epoch 45/60\n",
      "225/225 [==============================] - 37s 166ms/step - loss: 0.7146 - accuracy: 0.7347 - val_loss: 1.0226 - val_accuracy: 0.6470\n",
      "Epoch 46/60\n",
      "225/225 [==============================] - 37s 163ms/step - loss: 0.7052 - accuracy: 0.7365 - val_loss: 1.0628 - val_accuracy: 0.6349\n",
      "Epoch 47/60\n",
      "225/225 [==============================] - 37s 164ms/step - loss: 0.7023 - accuracy: 0.7388 - val_loss: 1.0805 - val_accuracy: 0.6334\n",
      "Epoch 48/60\n",
      "225/225 [==============================] - 37s 163ms/step - loss: 0.7046 - accuracy: 0.7402 - val_loss: 1.0493 - val_accuracy: 0.6415\n",
      "Epoch 49/60\n",
      "225/225 [==============================] - 37s 163ms/step - loss: 0.6709 - accuracy: 0.7435 - val_loss: 1.0324 - val_accuracy: 0.6391\n",
      "Epoch 50/60\n",
      "225/225 [==============================] - 37s 163ms/step - loss: 0.6516 - accuracy: 0.7575 - val_loss: 1.0597 - val_accuracy: 0.6462\n",
      "Epoch 51/60\n",
      "225/225 [==============================] - 37s 163ms/step - loss: 0.6392 - accuracy: 0.7660 - val_loss: 1.0345 - val_accuracy: 0.6541\n",
      "INFO:tensorflow:Assets written to: /content/drive/MyDrive/Model/kaggle/1/assets\n",
      "Epoch 52/60\n",
      "225/225 [==============================] - 37s 164ms/step - loss: 0.6369 - accuracy: 0.7643 - val_loss: 1.1023 - val_accuracy: 0.6249\n",
      "Epoch 53/60\n",
      "225/225 [==============================] - 37s 165ms/step - loss: 0.6134 - accuracy: 0.7686 - val_loss: 1.0775 - val_accuracy: 0.6466\n",
      "Epoch 54/60\n",
      "225/225 [==============================] - 37s 164ms/step - loss: 0.6000 - accuracy: 0.7762 - val_loss: 1.0524 - val_accuracy: 0.6497\n",
      "Epoch 55/60\n",
      "225/225 [==============================] - 37s 163ms/step - loss: 0.6040 - accuracy: 0.7757 - val_loss: 1.0628 - val_accuracy: 0.6537\n",
      "Epoch 56/60\n",
      "225/225 [==============================] - 37s 162ms/step - loss: 0.5881 - accuracy: 0.7809 - val_loss: 1.0943 - val_accuracy: 0.6467\n",
      "Epoch 57/60\n",
      "225/225 [==============================] - 37s 163ms/step - loss: 0.5711 - accuracy: 0.7866 - val_loss: 1.1074 - val_accuracy: 0.6382\n",
      "Epoch 58/60\n",
      "225/225 [==============================] - 37s 162ms/step - loss: 0.5507 - accuracy: 0.7993 - val_loss: 1.0752 - val_accuracy: 0.6466\n",
      "Epoch 59/60\n",
      "225/225 [==============================] - 37s 163ms/step - loss: 0.5383 - accuracy: 0.8025 - val_loss: 1.1016 - val_accuracy: 0.6411\n",
      "Epoch 60/60\n",
      "225/225 [==============================] - 37s 163ms/step - loss: 0.5391 - accuracy: 0.8005 - val_loss: 1.1068 - val_accuracy: 0.6470\n"
     ]
    }
   ],
   "source": [
    "checkpoint_filepath = \"/content/drive/MyDrive/Model/kaggle/1\"\n",
    "checkpoint = ModelCheckpoint(filepath=checkpoint_filepath,\n",
    "    save_weights_only=False,\n",
    "    monitor='val_accuracy',\n",
    "    mode='max',\n",
    "    save_best_only=True)\n",
    "callbacks_list = [checkpoint]\n",
    "\n",
    "history = model.fit_generator(generator=train_generator,\n",
    "                                steps_per_epoch=train_generator.n//train_generator.batch_size,\n",
    "                                epochs=60,\n",
    "                                validation_data = validation_generator,\n",
    "                                validation_steps = validation_generator.n//validation_generator.batch_size,\n",
    "                                callbacks=callbacks_list\n",
    "                                )"
   ]
  },
  {
   "cell_type": "code",
   "execution_count": 8,
   "metadata": {
    "colab": {
     "base_uri": "https://localhost:8080/",
     "height": 663
    },
    "id": "-T5VwiGq9iVw",
    "outputId": "3cb26485-9932-4978-9491-6dc15c4c1c56"
   },
   "outputs": [
    {
     "data": {
      "image/png": "[encoded data removed]",
      "text/plain": [
       "<Figure size 1440x720 with 2 Axes>"
      ]
     },
     "metadata": {
      "needs_background": "light",
      "tags": []
     },
     "output_type": "display_data"
    }
   ],
   "source": [
    "plt.figure(figsize=(20,10))\n",
    "plt.subplot(1, 2, 1)\n",
    "plt.suptitle('Optimizer : Adam', fontsize=10)\n",
    "plt.ylabel('Loss', fontsize=16)\n",
    "plt.plot(history.history['loss'], label='Training Loss')\n",
    "plt.plot(history.history['val_loss'], label='Validation Loss')\n",
    "plt.legend(loc='upper right')\n",
    "\n",
    "plt.subplot(1, 2, 2)\n",
    "plt.ylabel('Accuracy', fontsize=16)\n",
    "plt.plot(history.history['accuracy'], label='Training Accuracy')\n",
    "plt.plot(history.history['val_accuracy'], label='Validation Accuracy')\n",
    "plt.legend(loc='lower right')\n",
    "plt.show()"
   ]
  },
  {
   "cell_type": "markdown",
   "metadata": {
    "id": "s_h9MID29iNk"
   },
   "source": [
    "### by seeing graphs looks it overfits and also on live tests it did not give satisfactory results."
   ]
  },
  {
   "cell_type": "code",
   "execution_count": null,
   "metadata": {
    "id": "M_5K5wBa9iK7"
   },
   "outputs": [],
   "source": []
  },
  {
   "cell_type": "code",
   "execution_count": null,
   "metadata": {
    "id": "F2UVXTZD9iIK"
   },
   "outputs": [],
   "source": []
  },
  {
   "cell_type": "code",
   "execution_count": null,
   "metadata": {
    "id": "CN3mRKFP9iF5"
   },
   "outputs": [],
   "source": []
  },
  {
   "cell_type": "code",
   "execution_count": null,
   "metadata": {
    "id": "Wfmg5qGN9iDR"
   },
   "outputs": [],
   "source": []
  },
  {
   "cell_type": "code",
   "execution_count": null,
   "metadata": {
    "id": "eqU8vkCZ9iA2"
   },
   "outputs": [],
   "source": []
  },
  {
   "cell_type": "code",
   "execution_count": null,
   "metadata": {
    "id": "66dftFfO9h-N"
   },
   "outputs": [],
   "source": []
  },
  {
   "cell_type": "code",
   "execution_count": null,
   "metadata": {
    "id": "vC0fU5sW9h7T"
   },
   "outputs": [],
   "source": []
  },
  {
   "cell_type": "code",
   "execution_count": null,
   "metadata": {
    "id": "5Fqqx_sA9h45"
   },
   "outputs": [],
   "source": []
  },
  {
   "cell_type": "code",
   "execution_count": null,
   "metadata": {
    "id": "PbHH_CNq9h1b"
   },
   "outputs": [],
   "source": []
  },
  {
   "cell_type": "code",
   "execution_count": null,
   "metadata": {
    "id": "yMjH3LntxM9t"
   },
   "outputs": [],
   "source": []
  },
  {
   "cell_type": "code",
   "execution_count": null,
   "metadata": {
    "id": "9hCZnsVjYHm8"
   },
   "outputs": [],
   "source": []
  }
 ],
 "metadata": {
  "accelerator": "GPU",
  "colab": {
   "name": "FER.ipynb",
   "provenance": []
  },
  "kernelspec": {
   "display_name": "Python 3",
   "language": "python",
   "name": "python3"
  },
  "language_info": {
   "codemirror_mode": {
    "name": "ipython",
    "version": 3
   },
   "file_extension": ".py",
   "mimetype": "text/x-python",
   "name": "python",
   "nbconvert_exporter": "python",
   "pygments_lexer": "ipython3",
   "version": "3.8.5"
  }
 },
 "nbformat": 4,
 "nbformat_minor": 1
}
