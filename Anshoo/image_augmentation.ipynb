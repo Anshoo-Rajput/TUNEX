{
 "cells": [
  {
   "cell_type": "code",
   "execution_count": 9,
   "metadata": {},
   "outputs": [],
   "source": [
    "import os\n",
    "import albumentations\n",
    "import cv2 as cv\n",
    "import numpy as np"
   ]
  },
  {
   "cell_type": "code",
   "execution_count": 5,
   "metadata": {},
   "outputs": [
    {
     "name": "stdout",
     "output_type": "stream",
     "text": [
      "/home/d3adsh0t/Tunex\n"
     ]
    }
   ],
   "source": [
    "print(os.getcwd())"
   ]
  },
  {
   "cell_type": "code",
   "execution_count": 26,
   "metadata": {},
   "outputs": [],
   "source": [
    "_dir = os.getcwd()+ '/data/'"
   ]
  },
  {
   "cell_type": "code",
   "execution_count": 16,
   "metadata": {},
   "outputs": [],
   "source": [
    "LR = albumentations.Rotate(limit=(30, 30), interpolation=1, border_mode=4,  p=1)\n",
    "RR = albumentations.Rotate(limit=(-30, -30), interpolation=1, border_mode=4,  p=1)"
   ]
  },
  {
   "cell_type": "code",
   "execution_count": 33,
   "metadata": {},
   "outputs": [
    {
     "name": "stdout",
     "output_type": "stream",
     "text": [
      "/home/d3adsh0t/Tunex/data/ done\n",
      "/home/d3adsh0t/Tunex/data/3 done\n",
      "/home/d3adsh0t/Tunex/data/5 done\n",
      "/home/d3adsh0t/Tunex/data/6 done\n",
      "/home/d3adsh0t/Tunex/data/2 done\n",
      "/home/d3adsh0t/Tunex/data/1 done\n",
      "/home/d3adsh0t/Tunex/data/4 done\n",
      "/home/d3adsh0t/Tunex/data/0 done\n"
     ]
    }
   ],
   "source": [
    "for x,y,z in os.walk(_dir):\n",
    "    for i in z:\n",
    "        img = cv.imread(x+'/'+i)\n",
    "        img = cv.cvtColor(img, cv.COLOR_BGR2RGB)\n",
    "        nimg = LR(image=img)['image']\n",
    "        nimg = cv.cvtColor(nimg, cv.COLOR_RGB2BGR)\n",
    "        cv.imwrite(x+'/LR_'+i,nimg)\n",
    "        img = cv.cvtColor(img, cv.COLOR_BGR2RGB)\n",
    "        nimg = RR(image=img)['image']\n",
    "        nimg = cv.cvtColor(nimg, cv.COLOR_RGB2BGR)\n",
    "        cv.imwrite(x+'/RR_'+i,nimg)\n",
    "    print(x+' done')"
   ]
  },
  {
   "cell_type": "code",
   "execution_count": 36,
   "metadata": {},
   "outputs": [],
   "source": [
    "RB = albumentations.RandomBrightnessContrast(p=1)"
   ]
  },
  {
   "cell_type": "code",
   "execution_count": 37,
   "metadata": {},
   "outputs": [
    {
     "name": "stdout",
     "output_type": "stream",
     "text": [
      "/home/d3adsh0t/Tunex/data/ done\n",
      "/home/d3adsh0t/Tunex/data/3 done\n",
      "/home/d3adsh0t/Tunex/data/5 done\n",
      "/home/d3adsh0t/Tunex/data/6 done\n",
      "/home/d3adsh0t/Tunex/data/2 done\n",
      "/home/d3adsh0t/Tunex/data/1 done\n",
      "/home/d3adsh0t/Tunex/data/4 done\n",
      "/home/d3adsh0t/Tunex/data/0 done\n"
     ]
    }
   ],
   "source": [
    "for x,y,z in os.walk(_dir):\n",
    "    for i in z:\n",
    "        img = cv.imread(x+'/'+i)\n",
    "        img = cv.cvtColor(img, cv.COLOR_BGR2RGB)\n",
    "        nimg = LR(image=img)['image']\n",
    "        nimg = cv.cvtColor(nimg, cv.COLOR_RGB2BGR)\n",
    "        cv.imwrite(x+'/RB_'+i,nimg)\n",
    "    print(x+' done')"
   ]
  },
  {
   "cell_type": "code",
   "execution_count": null,
   "metadata": {},
   "outputs": [],
   "source": []
  }
 ],
 "metadata": {
  "kernelspec": {
   "display_name": "Python 3",
   "language": "python",
   "name": "python3"
  },
  "language_info": {
   "codemirror_mode": {
    "name": "ipython",
    "version": 3
   },
   "file_extension": ".py",
   "mimetype": "text/x-python",
   "name": "python",
   "nbconvert_exporter": "python",
   "pygments_lexer": "ipython3",
   "version": "3.8.5"
  }
 },
 "nbformat": 4,
 "nbformat_minor": 4
}
