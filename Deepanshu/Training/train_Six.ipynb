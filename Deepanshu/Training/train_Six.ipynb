{
  "nbformat": 4,
  "nbformat_minor": 0,
  "metadata": {
    "colab": {
      "name": "train_Six.ipynb",
      "provenance": [],
      "collapsed_sections": [],
      "machine_shape": "hm",
      "include_colab_link": true
    },
    "kernelspec": {
      "name": "python3",
      "display_name": "Python 3"
    },
    "accelerator": "TPU"
  },
  "cells": [
    {
      "cell_type": "markdown",
      "metadata": {
        "id": "view-in-github",
        "colab_type": "text"
      },
      "source": [
        "<a href=\"https://colab.research.google.com/github/arjunparmar/TUNEX/blob/main/Deepanshu/Training/train_Six.ipynb\" target=\"_parent\"><img src=\"https://colab.research.google.com/assets/colab-badge.svg\" alt=\"Open In Colab\"/></a>"
      ]
    },
    {
      "cell_type": "code",
      "metadata": {
        "id": "y5elDpIX9kwg"
      },
      "source": [
        "import os\r\n",
        "import sys"
      ],
      "execution_count": null,
      "outputs": []
    },
    {
      "cell_type": "code",
      "metadata": {
        "colab": {
          "base_uri": "https://localhost:8080/"
        },
        "id": "vWhT45kc8l-J",
        "outputId": "f4c93a5c-cd0c-4ad5-c5b6-a3941c542e3f"
      },
      "source": [
        "from google.colab import drive\n",
        "drive.mount('/content/drive')"
      ],
      "execution_count": null,
      "outputs": [
        {
          "output_type": "stream",
          "text": [
            "Mounted at /content/drive\n"
          ],
          "name": "stdout"
        }
      ]
    },
    {
      "cell_type": "code",
      "metadata": {
        "id": "tAb77yZ9fzMG"
      },
      "source": [
        "data_Dir = \"/content/drive/MyDrive/main\""
      ],
      "execution_count": null,
      "outputs": []
    },
    {
      "cell_type": "code",
      "metadata": {
        "id": "pafL7Li0jyXW"
      },
      "source": [
        "import tensorflow as tf\r\n",
        "from keras.preprocessing import image_dataset_from_directory\r\n",
        "from keras.preprocessing import image\r\n",
        "from keras.preprocessing.image import ImageDataGenerator"
      ],
      "execution_count": null,
      "outputs": []
    },
    {
      "cell_type": "code",
      "metadata": {
        "id": "9qxr-leg991d"
      },
      "source": [
        "height = 224\r\n",
        "width = 224\r\n",
        "batch_Size = 32"
      ],
      "execution_count": null,
      "outputs": []
    },
    {
      "cell_type": "code",
      "metadata": {
        "colab": {
          "base_uri": "https://localhost:8080/"
        },
        "id": "g10FuoiW99nD",
        "outputId": "afec0536-57ba-4079-a527-340aabe63871"
      },
      "source": [
        "train_Data = image_dataset_from_directory(\r\n",
        "    data_Dir,\r\n",
        "    labels=\"inferred\",\r\n",
        "    label_mode=\"categorical\",\r\n",
        "    batch_size=32,\r\n",
        "    image_size=(height, width),\r\n",
        "    shuffle=True,\r\n",
        "    seed = 7,\r\n",
        "    validation_split = 0.2,\r\n",
        "    subset = \"training\",\r\n",
        ")"
      ],
      "execution_count": null,
      "outputs": [
        {
          "output_type": "stream",
          "text": [
            "Found 17676 files belonging to 7 classes.\n",
            "Using 14141 files for training.\n"
          ],
          "name": "stdout"
        }
      ]
    },
    {
      "cell_type": "code",
      "metadata": {
        "colab": {
          "base_uri": "https://localhost:8080/"
        },
        "id": "gwQ1NeeI99UM",
        "outputId": "4c057c8c-57a7-4077-c863-fb70339ba30a"
      },
      "source": [
        "valid_Data = image_dataset_from_directory(\r\n",
        "    data_Dir,\r\n",
        "    labels=\"inferred\",\r\n",
        "    label_mode=\"categorical\",\r\n",
        "    batch_size=32,\r\n",
        "    image_size=(height, width),\r\n",
        "    shuffle=True,\r\n",
        "    seed = 7,\r\n",
        "    validation_split = 0.2,\r\n",
        "    subset = \"validation\",\r\n",
        ")"
      ],
      "execution_count": null,
      "outputs": [
        {
          "output_type": "stream",
          "text": [
            "Found 17676 files belonging to 7 classes.\n",
            "Using 3535 files for validation.\n"
          ],
          "name": "stdout"
        }
      ]
    },
    {
      "cell_type": "code",
      "metadata": {
        "id": "A6sU6Z-y98_L"
      },
      "source": [
        "AUTOTUNE = tf.data.experimental.AUTOTUNE\r\n",
        "\r\n",
        "train_Tuned = train_Data.cache().prefetch(buffer_size=AUTOTUNE)\r\n",
        "valid_Tuned = valid_Data.cache().prefetch(buffer_size=AUTOTUNE)"
      ],
      "execution_count": null,
      "outputs": []
    },
    {
      "cell_type": "code",
      "metadata": {
        "id": "aMwh1jRk98vS"
      },
      "source": [
        "from keras.models import Sequential, load_model\r\n",
        "from keras.layers import Dense, Dropout, Flatten\r\n",
        "from keras.layers import Conv2D, MaxPooling2D, BatchNormalization\r\n",
        "from keras.layers.experimental.preprocessing import Rescaling\r\n",
        "from keras.losses import categorical_crossentropy, sparse_categorical_crossentropy\r\n",
        "from keras.optimizers import Adam\r\n",
        "from keras.callbacks import EarlyStopping, ModelCheckpoint, ReduceLROnPlateau\r\n",
        "from keras.regularizers import l2"
      ],
      "execution_count": null,
      "outputs": []
    },
    {
      "cell_type": "code",
      "metadata": {
        "id": "IUqm2NzjHUzz"
      },
      "source": [
        "model = load_model(\"/content/drive/MyDrive/model_Five.h5\")"
      ],
      "execution_count": null,
      "outputs": []
    },
    {
      "cell_type": "code",
      "metadata": {
        "id": "oZNFOV0Ur2cX"
      },
      "source": [
        ""
      ],
      "execution_count": null,
      "outputs": []
    },
    {
      "cell_type": "code",
      "metadata": {
        "id": "8TPwFzXx98hI"
      },
      "source": [
        "model = Sequential()\r\n",
        "\r\n",
        "model.add(Rescaling(1./255))\r\n",
        "model.add(Conv2D(32, (3, 3), activation='relu', padding = 'same', input_shape=(height, width, 1)))\r\n",
        "model.add(Conv2D(32, (3, 3), activation='relu', padding = 'same', input_shape=(height, width, 1)))\r\n",
        "#model.add(BatchNormalization())\r\n",
        "model.add(MaxPooling2D(pool_size=(2,2), strides=(2, 2)))\r\n",
        "model.add(Dropout(0.3))\r\n",
        "\r\n",
        "model.add(Conv2D(64, (3, 3), activation='relu', padding = 'same'))\r\n",
        "model.add(Conv2D(64, (3, 3), activation='relu', padding = 'same'))\r\n",
        "#model.add(BatchNormalization())\r\n",
        "model.add(MaxPooling2D(pool_size=(2,2), strides=(2, 2)))\r\n",
        "model.add(Dropout(0.3))\r\n",
        "\r\n",
        "model.add(Conv2D(128, (3, 3), activation='relu', padding = 'same'))\r\n",
        "model.add(Conv2D(128, (3, 3), activation='relu', padding = 'same'))\r\n",
        "#model.add(BatchNormalization())\r\n",
        "model.add(MaxPooling2D(pool_size=(2,2), strides=(2, 2)))\r\n",
        "model.add(Dropout(0.3))\r\n",
        "\r\n",
        "model.add(Conv2D(256, (3, 3), activation='relu', padding = 'same'))\r\n",
        "model.add(Conv2D(256, (3, 3), activation='relu', padding = 'same'))\r\n",
        "model.add(BatchNormalization())\r\n",
        "model.add(MaxPooling2D(pool_size=(2,2), strides=(2, 2)))\r\n",
        "model.add(Dropout(0.3))\r\n",
        "\r\n",
        "\r\n",
        "model.add(Flatten())\r\n",
        "model.add(Dense(256, activation='relu'))\r\n",
        "#model.add(BatchNormalization())\r\n",
        "model.add(Dropout(0.5))\r\n",
        "\r\n",
        "model.add(Dense(64, activation='relu'))\r\n",
        "model.add(BatchNormalization())\r\n",
        "model.add(Dropout(0.2))\r\n",
        "\r\n",
        "model.add(Dense(16, activation='relu'))\r\n",
        "#model.add(BatchNormalization())\r\n",
        "model.add(Dropout(0.4))\r\n",
        "\r\n",
        "model.add(Dense(7, activation='softmax'))"
      ],
      "execution_count": null,
      "outputs": []
    },
    {
      "cell_type": "code",
      "metadata": {
        "id": "0NMeRIkN98Tw"
      },
      "source": [
        "model.compile(\r\n",
        "    optimizer = Adam(lr = 0.001),\r\n",
        "    loss = \"categorical_crossentropy\",\r\n",
        "    metrics = ['accuracy'],\r\n",
        ")"
      ],
      "execution_count": null,
      "outputs": []
    },
    {
      "cell_type": "code",
      "metadata": {
        "id": "mvBGvZRW98Cm"
      },
      "source": [
        "early_Stop = EarlyStopping(\r\n",
        "    monitor=\"val_loss\",\r\n",
        "    min_delta=0,\r\n",
        "    patience=3,\r\n",
        "    verbose=1,\r\n",
        "    restore_best_weights=True,\r\n",
        ")"
      ],
      "execution_count": null,
      "outputs": []
    },
    {
      "cell_type": "code",
      "metadata": {
        "id": "TgPsJlyt97Sr"
      },
      "source": [
        "checkpoint = ModelCheckpoint(\r\n",
        "    '/content/drive/MyDrive/model_Six.h5',\r\n",
        "    monitor=\"val_accuracy\",\r\n",
        "    mode='max',\r\n",
        "    verbose=1,\r\n",
        "    save_best_only=True,\r\n",
        ")"
      ],
      "execution_count": null,
      "outputs": []
    },
    {
      "cell_type": "code",
      "metadata": {
        "id": "h-CUHQkM-ofi"
      },
      "source": [
        "callbacks = [early_Stop, checkpoint]"
      ],
      "execution_count": null,
      "outputs": []
    },
    {
      "cell_type": "markdown",
      "metadata": {
        "id": "9x0DK-XNpyou"
      },
      "source": [
        "> Stopped after 8 epochs, on first run, with accuracy around 0.48.......()\r\n",
        "\r\n",
        "> Stopped after 3 epochs, on second run, with accuracy around 0.62.......()\r\n",
        "\r\n",
        "> Stopped after 8 epochs, on third run, with accuracy around 0.83.......()\r\n",
        "\r\n",
        "> Stopped after 8 epochs, on fourth run, with accuracy around 0.93.......()\r\n",
        "\r\n",
        "> Stopped after 7 epochs, on fifth run, with accuracy around 0.944......()\r\n",
        "\r\n",
        "> Early Stopping with accuracy around 0.954......()"
      ]
    },
    {
      "cell_type": "code",
      "metadata": {
        "colab": {
          "base_uri": "https://localhost:8080/"
        },
        "id": "XjAvrtRc6chW",
        "outputId": "9cd38bd1-5100-4f48-f169-651a7f2de723"
      },
      "source": [
        "model.fit(\r\n",
        "    train_Tuned,\r\n",
        "    epochs = 35,\r\n",
        "    validation_data = valid_Tuned,\r\n",
        "    callbacks = callbacks,\r\n",
        ")"
      ],
      "execution_count": null,
      "outputs": [
        {
          "output_type": "stream",
          "text": [
            "Epoch 1/35\n",
            "442/442 [==============================] - 4110s 9s/step - loss: 0.3015 - accuracy: 0.9011 - val_loss: 0.2281 - val_accuracy: 0.9341\n",
            "\n",
            "Epoch 00001: val_accuracy improved from -inf to 0.93409, saving model to /content/drive/MyDrive/model_Five.h5\n",
            "Epoch 2/35\n",
            "442/442 [==============================] - 895s 2s/step - loss: 0.3042 - accuracy: 0.8990 - val_loss: 0.1805 - val_accuracy: 0.9505\n",
            "\n",
            "Epoch 00002: val_accuracy improved from 0.93409 to 0.95050, saving model to /content/drive/MyDrive/model_Five.h5\n",
            "Epoch 3/35\n",
            "442/442 [==============================] - 860s 2s/step - loss: 0.3041 - accuracy: 0.9013 - val_loss: 0.1777 - val_accuracy: 0.9545\n",
            "\n",
            "Epoch 00003: val_accuracy improved from 0.95050 to 0.95446, saving model to /content/drive/MyDrive/model_Five.h5\n",
            "Epoch 4/35\n",
            "442/442 [==============================] - 865s 2s/step - loss: 0.2848 - accuracy: 0.9041 - val_loss: 0.2249 - val_accuracy: 0.9420\n",
            "\n",
            "Epoch 00004: val_accuracy did not improve from 0.95446\n",
            "Epoch 5/35\n",
            "442/442 [==============================] - 856s 2s/step - loss: 0.2611 - accuracy: 0.9114 - val_loss: 0.1993 - val_accuracy: 0.9479\n",
            "\n",
            "Epoch 00005: val_accuracy did not improve from 0.95446\n",
            "Epoch 6/35\n",
            "442/442 [==============================] - 848s 2s/step - loss: 0.2596 - accuracy: 0.9114 - val_loss: 0.2122 - val_accuracy: 0.9465\n",
            "Restoring model weights from the end of the best epoch.\n",
            "\n",
            "Epoch 00006: val_accuracy did not improve from 0.95446\n",
            "Epoch 00006: early stopping\n"
          ],
          "name": "stdout"
        },
        {
          "output_type": "execute_result",
          "data": {
            "text/plain": [
              "<tensorflow.python.keras.callbacks.History at 0x7f32d9b10dd8>"
            ]
          },
          "metadata": {
            "tags": []
          },
          "execution_count": 15
        }
      ]
    },
    {
      "cell_type": "markdown",
      "metadata": {
        "id": "W3RYQ5Yee7_f"
      },
      "source": [
        "> Changing to Sparse Categrical Crossentropy\r\n",
        "\r\n",
        "> Changing seed from 20 to 7"
      ]
    },
    {
      "cell_type": "code",
      "metadata": {
        "colab": {
          "base_uri": "https://localhost:8080/"
        },
        "id": "cSsxyyaWfQx2",
        "outputId": "7abf2d9f-8454-4772-e3ab-c351fa0e66b1"
      },
      "source": [
        "model.fit(\r\n",
        "    train_Tuned,\r\n",
        "    epochs = 35,\r\n",
        "    validation_data = valid_Tuned,\r\n",
        "    callbacks = callbacks,\r\n",
        ")"
      ],
      "execution_count": null,
      "outputs": [
        {
          "output_type": "stream",
          "text": [
            "Epoch 1/35\n",
            "442/442 [==============================] - 4548s 10s/step - loss: 0.3384 - accuracy: 0.8949 - val_loss: 0.0687 - val_accuracy: 0.9836\n",
            "\n",
            "Epoch 00001: val_accuracy improved from -inf to 0.98359, saving model to /content/drive/MyDrive/model_Six.h5\n",
            "Epoch 2/35\n",
            "442/442 [==============================] - 940s 2s/step - loss: 0.3050 - accuracy: 0.9046 - val_loss: 0.0557 - val_accuracy: 0.9867\n",
            "\n",
            "Epoch 00002: val_accuracy improved from 0.98359 to 0.98670, saving model to /content/drive/MyDrive/model_Six.h5\n",
            "Epoch 3/35\n",
            "442/442 [==============================] - 919s 2s/step - loss: 0.2976 - accuracy: 0.9060 - val_loss: 0.1257 - val_accuracy: 0.9615\n",
            "\n",
            "Epoch 00003: val_accuracy did not improve from 0.98670\n",
            "Epoch 4/35\n",
            "442/442 [==============================] - 901s 2s/step - loss: 0.3012 - accuracy: 0.9046 - val_loss: 0.0529 - val_accuracy: 0.9861\n",
            "\n",
            "Epoch 00004: val_accuracy did not improve from 0.98670\n",
            "Epoch 5/35\n",
            "442/442 [==============================] - 898s 2s/step - loss: 0.2820 - accuracy: 0.9136 - val_loss: 0.0450 - val_accuracy: 0.9884\n",
            "\n",
            "Epoch 00005: val_accuracy improved from 0.98670 to 0.98840, saving model to /content/drive/MyDrive/model_Six.h5\n",
            "Epoch 6/35\n",
            "442/442 [==============================] - 891s 2s/step - loss: 0.2811 - accuracy: 0.9102 - val_loss: 0.0860 - val_accuracy: 0.9703\n",
            "\n",
            "Epoch 00006: val_accuracy did not improve from 0.98840\n",
            "Epoch 7/35\n",
            "442/442 [==============================] - 896s 2s/step - loss: 0.2745 - accuracy: 0.9100 - val_loss: 0.0534 - val_accuracy: 0.9825\n",
            "\n",
            "Epoch 00007: val_accuracy did not improve from 0.98840\n",
            "Epoch 8/35\n",
            "343/442 [======================>.......] - ETA: 3:16 - loss: 0.2597 - accuracy: 0.9146"
          ],
          "name": "stdout"
        }
      ]
    }
  ]
}