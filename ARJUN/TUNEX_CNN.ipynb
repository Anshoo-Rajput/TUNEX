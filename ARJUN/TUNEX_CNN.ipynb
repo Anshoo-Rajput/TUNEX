{
  "nbformat": 4,
  "nbformat_minor": 0,
  "metadata": {
    "colab": {
      "name": "TUNEX_CNN.ipynb",
      "provenance": [],
      "collapsed_sections": []
    },
    "kernelspec": {
      "name": "python3",
      "display_name": "Python 3"
    },
    "accelerator": "GPU"
  },
  "cells": [
    {
      "cell_type": "code",
      "metadata": {
        "colab": {
          "base_uri": "https://localhost:8080/"
        },
        "id": "ILrQGdyN08lj",
        "outputId": "d97c83c0-a1db-455d-cd95-2cdcbb9616f2"
      },
      "source": [
        "from google.colab import drive\n",
        "drive.mount('/content/drive')"
      ],
      "execution_count": null,
      "outputs": [
        {
          "output_type": "stream",
          "text": [
            "Mounted at /content/drive\n"
          ],
          "name": "stdout"
        }
      ]
    },
    {
      "cell_type": "code",
      "metadata": {
        "id": "a_dakmXj1jaC"
      },
      "source": [
        "import pickle\n",
        "import numpy as np\n",
        "\n",
        "pickle_in = open(\"/content/drive/My Drive/Dataset/face_X.pickle\",\"rb\")\n",
        "X = pickle.load(pickle_in)\n",
        "\n",
        "\n",
        "pickle_in = open(\"/content/drive/My Drive/Dataset/face_Y.pickle\",\"rb\")\n",
        "y = pickle.load(pickle_in)\n",
        "\n",
        "X = X/255.0\n",
        "X=np.array(X)\n",
        "y=np.array(y)"
      ],
      "execution_count": null,
      "outputs": []
    },
    {
      "cell_type": "code",
      "metadata": {
        "colab": {
          "base_uri": "https://localhost:8080/"
        },
        "id": "IyWh3LpB09vh",
        "outputId": "f9c19d6e-9063-4a86-d9c1-043b2f001483"
      },
      "source": [
        "from keras.layers import Dense, Input, Dropout, GlobalAveragePooling2D, Flatten, Conv2D, BatchNormalization, Activation, MaxPooling2D\n",
        "from keras.models import Model, Sequential\n",
        "from keras.optimizers import Adam\n",
        "\n",
        "# number of possible label values\n",
        "nb_classes = 7\n",
        "\n",
        "# Initialising the CNN\n",
        "model = Sequential()\n",
        "\n",
        "# 1 - Convolution\n",
        "model.add(Conv2D(64,(3,3), padding='same', input_shape=(48, 48,1)))\n",
        "model.add(BatchNormalization())\n",
        "model.add(Activation('relu'))\n",
        "model.add(MaxPooling2D(pool_size=(2, 2)))\n",
        "model.add(Dropout(0.25))\n",
        "\n",
        "# 2nd Convolution layer\n",
        "model.add(Conv2D(128,(5,5), padding='same'))\n",
        "model.add(BatchNormalization())\n",
        "model.add(Activation('relu'))\n",
        "model.add(MaxPooling2D(pool_size=(2, 2)))\n",
        "model.add(Dropout(0.25))\n",
        "\n",
        "# 3rd Convolution layer\n",
        "model.add(Conv2D(512,(3,3), padding='same'))\n",
        "model.add(BatchNormalization())\n",
        "model.add(Activation('relu'))\n",
        "model.add(MaxPooling2D(pool_size=(2, 2)))\n",
        "model.add(Dropout(0.25))\n",
        "\n",
        "# 4th Convolution layer\n",
        "model.add(Conv2D(512,(3,3), padding='same'))\n",
        "model.add(BatchNormalization())\n",
        "model.add(Activation('relu'))\n",
        "model.add(MaxPooling2D(pool_size=(2, 2)))\n",
        "model.add(Dropout(0.25))\n",
        "\n",
        "# Flattening\n",
        "model.add(Flatten())\n",
        "\n",
        "# Fully connected layer 1st layer\n",
        "model.add(Dense(256))\n",
        "model.add(BatchNormalization())\n",
        "model.add(Activation('relu'))\n",
        "model.add(Dropout(0.25))\n",
        "\n",
        "# Fully connected layer 2nd layer\n",
        "model.add(Dense(512))\n",
        "model.add(BatchNormalization())\n",
        "model.add(Activation('relu'))\n",
        "model.add(Dropout(0.25))\n",
        "\n",
        "model.add(Dense(nb_classes, activation='softmax'))\n",
        "\n",
        "print(model.summary())\n",
        "\n",
        "opt = Adam(lr=0.0001)\n",
        "model.compile(optimizer=opt, loss='sparse_categorical_crossentropy', metrics=['accuracy'])"
      ],
      "execution_count": null,
      "outputs": [
        {
          "output_type": "stream",
          "text": [
            "Model: \"sequential\"\n",
            "_________________________________________________________________\n",
            "Layer (type)                 Output Shape              Param #   \n",
            "=================================================================\n",
            "conv2d (Conv2D)              (None, 48, 48, 64)        640       \n",
            "_________________________________________________________________\n",
            "batch_normalization (BatchNo (None, 48, 48, 64)        256       \n",
            "_________________________________________________________________\n",
            "activation (Activation)      (None, 48, 48, 64)        0         \n",
            "_________________________________________________________________\n",
            "max_pooling2d (MaxPooling2D) (None, 24, 24, 64)        0         \n",
            "_________________________________________________________________\n",
            "dropout (Dropout)            (None, 24, 24, 64)        0         \n",
            "_________________________________________________________________\n",
            "conv2d_1 (Conv2D)            (None, 24, 24, 128)       204928    \n",
            "_________________________________________________________________\n",
            "batch_normalization_1 (Batch (None, 24, 24, 128)       512       \n",
            "_________________________________________________________________\n",
            "activation_1 (Activation)    (None, 24, 24, 128)       0         \n",
            "_________________________________________________________________\n",
            "max_pooling2d_1 (MaxPooling2 (None, 12, 12, 128)       0         \n",
            "_________________________________________________________________\n",
            "dropout_1 (Dropout)          (None, 12, 12, 128)       0         \n",
            "_________________________________________________________________\n",
            "conv2d_2 (Conv2D)            (None, 12, 12, 512)       590336    \n",
            "_________________________________________________________________\n",
            "batch_normalization_2 (Batch (None, 12, 12, 512)       2048      \n",
            "_________________________________________________________________\n",
            "activation_2 (Activation)    (None, 12, 12, 512)       0         \n",
            "_________________________________________________________________\n",
            "max_pooling2d_2 (MaxPooling2 (None, 6, 6, 512)         0         \n",
            "_________________________________________________________________\n",
            "dropout_2 (Dropout)          (None, 6, 6, 512)         0         \n",
            "_________________________________________________________________\n",
            "conv2d_3 (Conv2D)            (None, 6, 6, 512)         2359808   \n",
            "_________________________________________________________________\n",
            "batch_normalization_3 (Batch (None, 6, 6, 512)         2048      \n",
            "_________________________________________________________________\n",
            "activation_3 (Activation)    (None, 6, 6, 512)         0         \n",
            "_________________________________________________________________\n",
            "max_pooling2d_3 (MaxPooling2 (None, 3, 3, 512)         0         \n",
            "_________________________________________________________________\n",
            "dropout_3 (Dropout)          (None, 3, 3, 512)         0         \n",
            "_________________________________________________________________\n",
            "flatten (Flatten)            (None, 4608)              0         \n",
            "_________________________________________________________________\n",
            "dense (Dense)                (None, 256)               1179904   \n",
            "_________________________________________________________________\n",
            "batch_normalization_4 (Batch (None, 256)               1024      \n",
            "_________________________________________________________________\n",
            "activation_4 (Activation)    (None, 256)               0         \n",
            "_________________________________________________________________\n",
            "dropout_4 (Dropout)          (None, 256)               0         \n",
            "_________________________________________________________________\n",
            "dense_1 (Dense)              (None, 512)               131584    \n",
            "_________________________________________________________________\n",
            "batch_normalization_5 (Batch (None, 512)               2048      \n",
            "_________________________________________________________________\n",
            "activation_5 (Activation)    (None, 512)               0         \n",
            "_________________________________________________________________\n",
            "dropout_5 (Dropout)          (None, 512)               0         \n",
            "_________________________________________________________________\n",
            "dense_2 (Dense)              (None, 7)                 3591      \n",
            "=================================================================\n",
            "Total params: 4,478,727\n",
            "Trainable params: 4,474,759\n",
            "Non-trainable params: 3,968\n",
            "_________________________________________________________________\n",
            "None\n"
          ],
          "name": "stdout"
        }
      ]
    },
    {
      "cell_type": "code",
      "metadata": {
        "colab": {
          "base_uri": "https://localhost:8080/"
        },
        "id": "5gDdXWLX1K6v",
        "outputId": "56e5e018-0111-4187-e4b7-21ac69c3be2d"
      },
      "source": [
        "history=model.fit(X, y, batch_size=32, epochs=40, validation_split=0.2)"
      ],
      "execution_count": null,
      "outputs": [
        {
          "output_type": "stream",
          "text": [
            "Epoch 1/40\n",
            "721/721 [==============================] - 27s 38ms/step - loss: 0.5501 - accuracy: 0.7980 - val_loss: 1.1919 - val_accuracy: 0.6111\n",
            "Epoch 2/40\n",
            "721/721 [==============================] - 27s 37ms/step - loss: 0.5144 - accuracy: 0.8092 - val_loss: 1.2528 - val_accuracy: 0.6031\n",
            "Epoch 3/40\n",
            "721/721 [==============================] - 27s 37ms/step - loss: 0.5106 - accuracy: 0.8094 - val_loss: 1.2424 - val_accuracy: 0.6189\n",
            "Epoch 4/40\n",
            "721/721 [==============================] - 27s 37ms/step - loss: 0.4898 - accuracy: 0.8221 - val_loss: 1.2530 - val_accuracy: 0.6127\n",
            "Epoch 5/40\n",
            "721/721 [==============================] - 27s 37ms/step - loss: 0.4883 - accuracy: 0.8197 - val_loss: 1.2007 - val_accuracy: 0.6309\n",
            "Epoch 6/40\n",
            "721/721 [==============================] - 27s 37ms/step - loss: 0.4706 - accuracy: 0.8285 - val_loss: 1.1901 - val_accuracy: 0.6319\n",
            "Epoch 7/40\n",
            "721/721 [==============================] - 27s 37ms/step - loss: 0.4590 - accuracy: 0.8318 - val_loss: 1.2398 - val_accuracy: 0.6208\n",
            "Epoch 8/40\n",
            "721/721 [==============================] - 27s 37ms/step - loss: 0.4464 - accuracy: 0.8362 - val_loss: 1.2220 - val_accuracy: 0.6328\n",
            "Epoch 9/40\n",
            "721/721 [==============================] - 27s 37ms/step - loss: 0.4286 - accuracy: 0.8439 - val_loss: 1.2554 - val_accuracy: 0.6198\n",
            "Epoch 10/40\n",
            "721/721 [==============================] - 27s 37ms/step - loss: 0.4136 - accuracy: 0.8493 - val_loss: 1.2639 - val_accuracy: 0.6293\n",
            "Epoch 11/40\n",
            "721/721 [==============================] - 27s 37ms/step - loss: 0.4087 - accuracy: 0.8519 - val_loss: 1.2531 - val_accuracy: 0.6314\n",
            "Epoch 12/40\n",
            "721/721 [==============================] - 27s 37ms/step - loss: 0.3951 - accuracy: 0.8544 - val_loss: 1.3124 - val_accuracy: 0.6328\n",
            "Epoch 13/40\n",
            "721/721 [==============================] - 27s 37ms/step - loss: 0.3910 - accuracy: 0.8596 - val_loss: 1.3323 - val_accuracy: 0.6248\n",
            "Epoch 14/40\n",
            "721/721 [==============================] - 27s 37ms/step - loss: 0.3723 - accuracy: 0.8628 - val_loss: 1.3014 - val_accuracy: 0.6331\n",
            "Epoch 15/40\n",
            "721/721 [==============================] - 27s 37ms/step - loss: 0.3675 - accuracy: 0.8675 - val_loss: 1.3589 - val_accuracy: 0.6291\n",
            "Epoch 16/40\n",
            "721/721 [==============================] - 27s 37ms/step - loss: 0.3560 - accuracy: 0.8702 - val_loss: 1.3248 - val_accuracy: 0.6347\n",
            "Epoch 17/40\n",
            "721/721 [==============================] - 27s 37ms/step - loss: 0.3439 - accuracy: 0.8754 - val_loss: 1.3947 - val_accuracy: 0.6302\n",
            "Epoch 18/40\n",
            "721/721 [==============================] - 27s 37ms/step - loss: 0.3415 - accuracy: 0.8773 - val_loss: 1.4529 - val_accuracy: 0.6068\n",
            "Epoch 19/40\n",
            "721/721 [==============================] - 27s 37ms/step - loss: 0.3384 - accuracy: 0.8769 - val_loss: 1.3873 - val_accuracy: 0.6337\n",
            "Epoch 20/40\n",
            "721/721 [==============================] - 27s 37ms/step - loss: 0.3206 - accuracy: 0.8824 - val_loss: 1.3565 - val_accuracy: 0.6316\n",
            "Epoch 21/40\n",
            "721/721 [==============================] - 27s 37ms/step - loss: 0.3108 - accuracy: 0.8879 - val_loss: 1.3793 - val_accuracy: 0.6234\n",
            "Epoch 22/40\n",
            "721/721 [==============================] - 27s 37ms/step - loss: 0.3037 - accuracy: 0.8900 - val_loss: 1.3878 - val_accuracy: 0.6300\n",
            "Epoch 23/40\n",
            "721/721 [==============================] - 27s 37ms/step - loss: 0.3067 - accuracy: 0.8891 - val_loss: 1.4048 - val_accuracy: 0.6278\n",
            "Epoch 24/40\n",
            "721/721 [==============================] - 27s 37ms/step - loss: 0.2985 - accuracy: 0.8894 - val_loss: 1.4241 - val_accuracy: 0.6295\n",
            "Epoch 25/40\n",
            "721/721 [==============================] - 27s 37ms/step - loss: 0.2884 - accuracy: 0.8959 - val_loss: 1.4260 - val_accuracy: 0.6316\n",
            "Epoch 26/40\n",
            "721/721 [==============================] - 27s 37ms/step - loss: 0.2870 - accuracy: 0.8977 - val_loss: 1.4262 - val_accuracy: 0.6295\n",
            "Epoch 27/40\n",
            "721/721 [==============================] - 27s 37ms/step - loss: 0.2741 - accuracy: 0.9012 - val_loss: 1.4614 - val_accuracy: 0.6328\n",
            "Epoch 28/40\n",
            "721/721 [==============================] - 27s 37ms/step - loss: 0.2637 - accuracy: 0.9051 - val_loss: 1.4301 - val_accuracy: 0.6291\n",
            "Epoch 29/40\n",
            "721/721 [==============================] - 27s 37ms/step - loss: 0.2619 - accuracy: 0.9055 - val_loss: 1.5014 - val_accuracy: 0.6172\n",
            "Epoch 30/40\n",
            "721/721 [==============================] - 27s 37ms/step - loss: 0.2633 - accuracy: 0.9064 - val_loss: 1.5610 - val_accuracy: 0.6324\n",
            "Epoch 31/40\n",
            "721/721 [==============================] - 27s 37ms/step - loss: 0.2474 - accuracy: 0.9117 - val_loss: 1.4837 - val_accuracy: 0.6333\n",
            "Epoch 32/40\n",
            "721/721 [==============================] - 27s 37ms/step - loss: 0.2502 - accuracy: 0.9103 - val_loss: 1.5505 - val_accuracy: 0.6288\n",
            "Epoch 33/40\n",
            "721/721 [==============================] - 27s 37ms/step - loss: 0.2376 - accuracy: 0.9157 - val_loss: 1.5474 - val_accuracy: 0.6232\n",
            "Epoch 34/40\n",
            "721/721 [==============================] - 27s 37ms/step - loss: 0.2369 - accuracy: 0.9150 - val_loss: 1.5754 - val_accuracy: 0.6108\n",
            "Epoch 35/40\n",
            "721/721 [==============================] - 27s 37ms/step - loss: 0.2324 - accuracy: 0.9184 - val_loss: 1.5930 - val_accuracy: 0.6298\n",
            "Epoch 36/40\n",
            "721/721 [==============================] - 27s 37ms/step - loss: 0.2268 - accuracy: 0.9199 - val_loss: 1.5729 - val_accuracy: 0.6272\n",
            "Epoch 37/40\n",
            "721/721 [==============================] - 27s 37ms/step - loss: 0.2169 - accuracy: 0.9218 - val_loss: 1.5645 - val_accuracy: 0.6297\n",
            "Epoch 38/40\n",
            "721/721 [==============================] - 27s 37ms/step - loss: 0.2109 - accuracy: 0.9254 - val_loss: 1.5717 - val_accuracy: 0.6267\n",
            "Epoch 39/40\n",
            "721/721 [==============================] - 27s 37ms/step - loss: 0.2168 - accuracy: 0.9249 - val_loss: 1.6557 - val_accuracy: 0.6156\n",
            "Epoch 40/40\n",
            "721/721 [==============================] - 27s 37ms/step - loss: 0.2108 - accuracy: 0.9256 - val_loss: 1.5979 - val_accuracy: 0.6284\n"
          ],
          "name": "stdout"
        }
      ]
    },
    {
      "cell_type": "code",
      "metadata": {
        "colab": {
          "base_uri": "https://localhost:8080/",
          "height": 590
        },
        "id": "LskfAA-j1-aq",
        "outputId": "5c02d01a-65bd-4f15-d05b-63cdf641db9a"
      },
      "source": [
        "model.save('/content/drive/My Drive/Model/face2.h5')\n",
        "model.save('/content/drive/My Drive/Model/face2.model')\n",
        "import matplotlib.pyplot as plt\n",
        "plt.plot(history.history['accuracy'])\n",
        "plt.plot(history.history['val_accuracy'])\n",
        "plt.title('model accuracy')\n",
        "plt.ylabel('accuracy')\n",
        "plt.xlabel('epoch')\n",
        "plt.legend(['train', 'test'], loc='upper left')\n",
        "plt.show()\n",
        "plt.plot(history.history['loss'])\n",
        "plt.plot(history.history['val_loss'])\n",
        "plt.title('model loss')\n",
        "plt.ylabel('loss')\n",
        "plt.xlabel('epoch')\n",
        "plt.legend(['train', 'test'], loc='upper left')\n",
        "plt.show()"
      ],
      "execution_count": null,
      "outputs": [
        {
          "output_type": "stream",
          "text": [
            "INFO:tensorflow:Assets written to: /content/drive/My Drive/Model/face2.model/assets\n"
          ],
          "name": "stdout"
        },
        {
          "output_type": "display_data",
          "data": {
            "image/png": "[encoded data removed]",
            "text/plain": [
              "<Figure size 432x288 with 1 Axes>"
            ]
          },
          "metadata": {
            "tags": [],
            "needs_background": "light"
          }
        },
        {
          "output_type": "display_data",
          "data": {
            "image/png": "[encoded data removed]",
            "text/plain": [
              "<Figure size 432x288 with 1 Axes>"
            ]
          },
          "metadata": {
            "tags": [],
            "needs_background": "light"
          }
        }
      ]
    },
    {
      "cell_type": "code",
      "metadata": {
        "id": "6vqwe8l36IOK"
      },
      "source": [
        ""
      ],
      "execution_count": null,
      "outputs": []
    }
  ]
}