{
 "cells": [
  {
   "cell_type": "code",
   "execution_count": 1,
   "metadata": {},
   "outputs": [],
   "source": [
    "import numpy as np\n",
    "import pandas as pd\n",
    "import pickle\n",
    "import cv2\n",
    "import tqdm\n",
    "import os\n",
    "import matplotlib.pyplot as plt"
   ]
  },
  {
   "cell_type": "code",
   "execution_count": 2,
   "metadata": {},
   "outputs": [],
   "source": [
    "base_dir = 'images/'\n",
    "li = [str(i) for i in range(0,7)]\n",
    "IMG_SIZE = 48"
   ]
  },
  {
   "cell_type": "code",
   "execution_count": 12,
   "metadata": {},
   "outputs": [],
   "source": [
    "training_data = []\n",
    "validation_data = []"
   ]
  },
  {
   "cell_type": "code",
   "execution_count": 13,
   "metadata": {},
   "outputs": [],
   "source": [
    "def create_dataset(arr, directory):\n",
    "    for i in li:\n",
    "        curr_dir = os.path.join(directory, i)\n",
    "        \n",
    "        label = int(i)\n",
    "        print(curr_dir)\n",
    "        flag = 0\n",
    "        for x,y,z in os.walk(curr_dir):\n",
    "            if(flag == 0):\n",
    "                flag = 1\n",
    "                for img in z:\n",
    "#                     print(img)\n",
    "                    img_array = cv2.imread(os.path.join(curr_dir,img) ,cv2.IMREAD_GRAYSCALE)\n",
    "                    img_array = cv2.resize(img_array, (IMG_SIZE, IMG_SIZE)) \n",
    "                    arr.append([img_array, label])\n",
    "    return arr"
   ]
  },
  {
   "cell_type": "code",
   "execution_count": 14,
   "metadata": {},
   "outputs": [
    {
     "name": "stdout",
     "output_type": "stream",
     "text": [
      "images/train/0\n",
      "images/train/1\n",
      "images/train/2\n",
      "images/train/3\n",
      "images/train/4\n",
      "images/train/5\n",
      "images/train/6\n",
      "images/validation/0\n",
      "images/validation/1\n",
      "images/validation/2\n",
      "images/validation/3\n",
      "images/validation/4\n",
      "images/validation/5\n",
      "images/validation/6\n"
     ]
    }
   ],
   "source": [
    "training_data = create_dataset(training_data, base_dir+'train')\n",
    "validation_data = create_dataset(validation_data, base_dir+'validation')"
   ]
  },
  {
   "cell_type": "code",
   "execution_count": 15,
   "metadata": {},
   "outputs": [
    {
     "data": {
      "text/plain": [
       "28821"
      ]
     },
     "execution_count": 15,
     "metadata": {},
     "output_type": "execute_result"
    }
   ],
   "source": [
    "len(training_data)"
   ]
  },
  {
   "cell_type": "code",
   "execution_count": 16,
   "metadata": {},
   "outputs": [
    {
     "data": {
      "text/plain": [
       "7066"
      ]
     },
     "execution_count": 16,
     "metadata": {},
     "output_type": "execute_result"
    }
   ],
   "source": [
    "len(validation_data)"
   ]
  },
  {
   "cell_type": "code",
   "execution_count": 18,
   "metadata": {},
   "outputs": [],
   "source": [
    "import random\n",
    "random.shuffle(training_data)\n",
    "random.shuffle(validation_data)"
   ]
  },
  {
   "cell_type": "code",
   "execution_count": 19,
   "metadata": {},
   "outputs": [],
   "source": [
    "def X_y_split(dataset):\n",
    "    X = []\n",
    "    y = []\n",
    "    \n",
    "    for img, label in dataset:\n",
    "        X.append(img)\n",
    "        y.append(label)\n",
    "    \n",
    "    return(X, y)"
   ]
  },
  {
   "cell_type": "code",
   "execution_count": 20,
   "metadata": {},
   "outputs": [],
   "source": [
    "X_train, y_train = X_y_split(training_data)\n",
    "X_val, y_val = X_y_split(validation_data)"
   ]
  },
  {
   "cell_type": "code",
   "execution_count": 21,
   "metadata": {},
   "outputs": [],
   "source": [
    "def pickling(data, file_name):\n",
    "    try:\n",
    "        f = open(file_name,\"wb\")\n",
    "        pickle.dump(data, f)\n",
    "        f.close()\n",
    "    except Exception as e:\n",
    "        print(e)\n",
    "        pass"
   ]
  },
  {
   "cell_type": "code",
   "execution_count": 22,
   "metadata": {},
   "outputs": [],
   "source": [
    "pickling(X_train,'X_Train.pickle')\n",
    "pickling(y_train,'y_Train.pickle')\n",
    "pickling(X_val,'X_val.pickle')\n",
    "pickling(y_val,'y_val.pickle')"
   ]
  },
  {
   "cell_type": "code",
   "execution_count": null,
   "metadata": {},
   "outputs": [],
   "source": []
  }
 ],
 "metadata": {
  "kernelspec": {
   "display_name": "Python 3",
   "language": "python",
   "name": "python3"
  },
  "language_info": {
   "codemirror_mode": {
    "name": "ipython",
    "version": 3
   },
   "file_extension": ".py",
   "mimetype": "text/x-python",
   "name": "python",
   "nbconvert_exporter": "python",
   "pygments_lexer": "ipython3",
   "version": "3.7.6"
  }
 },
 "nbformat": 4,
 "nbformat_minor": 4
}
