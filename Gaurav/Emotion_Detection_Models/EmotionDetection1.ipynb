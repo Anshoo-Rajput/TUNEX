{
  "nbformat": 4,
  "nbformat_minor": 0,
  "metadata": {
    "colab": {
      "name": "EmotionDetection1.ipynb",
      "provenance": [],
      "collapsed_sections": [],
      "mount_file_id": "1jHA0jv5FXu7Jxc7jCO8qE2OMXjqtZlJX",
      "authorship_tag": "ABX9TyM+X0XW5I1RAnBUz2mrmKer",
      "include_colab_link": true
    },
    "kernelspec": {
      "name": "python3",
      "display_name": "Python 3"
    },
    "accelerator": "GPU"
  },
  "cells": [
    {
      "cell_type": "markdown",
      "metadata": {
        "id": "view-in-github",
        "colab_type": "text"
      },
      "source": [
        "<a href=\"https://colab.research.google.com/github/arjunparmar/TUNEX/blob/main/EmotionDetection1.ipynb\" target=\"_parent\"><img src=\"https://colab.research.google.com/assets/colab-badge.svg\" alt=\"Open In Colab\"/></a>"
      ]
    },
    {
      "cell_type": "code",
      "metadata": {
        "id": "bkxZnWFtKdyR"
      },
      "source": [
        "import numpy as np\n",
        "import matplotlib.pyplot as plt\n",
        "import keras\n",
        "import os\n",
        "import PIL\n",
        "import pathlib\n",
        "import tensorflow as tf"
      ],
      "execution_count": 1,
      "outputs": []
    },
    {
      "cell_type": "code",
      "metadata": {
        "id": "Ttl2_KgYofqq"
      },
      "source": [
        "data_dir = \"/content/drive/MyDrive/dataset/main\"\n",
        "data_dir = pathlib.Path(data_dir)\n",
        "img_height = 128\n",
        "img_width = 128\n",
        "batch_size = 17640"
      ],
      "execution_count": 2,
      "outputs": []
    },
    {
      "cell_type": "code",
      "metadata": {
        "colab": {
          "base_uri": "https://localhost:8080/"
        },
        "id": "60jhFyIb_hux",
        "outputId": "25049acb-e4b0-4ccc-9ea6-86553f306e1a"
      },
      "source": [
        "image_count = len(list(data_dir.glob('*/*.jpg')))\n",
        "print(image_count)\n"
      ],
      "execution_count": 3,
      "outputs": [
        {
          "output_type": "stream",
          "text": [
            "14730\n"
          ],
          "name": "stdout"
        }
      ]
    },
    {
      "cell_type": "code",
      "metadata": {
        "colab": {
          "base_uri": "https://localhost:8080/"
        },
        "id": "O4CU13Y5oqDh",
        "outputId": "473d00c9-2df0-4c4c-fe45-bfdf3c061d95"
      },
      "source": [
        "train_ds = tf.keras.preprocessing.image_dataset_from_directory(\n",
        "  data_dir,\n",
        "  validation_split=0.2,\n",
        "  seed=5,\n",
        "  shuffle=True,\n",
        "  subset=\"training\",\n",
        "  image_size=(img_height, img_width),\n",
        "  batch_size=32)"
      ],
      "execution_count": 4,
      "outputs": [
        {
          "output_type": "stream",
          "text": [
            "Found 17676 files belonging to 7 classes.\n",
            "Using 14141 files for training.\n"
          ],
          "name": "stdout"
        }
      ]
    },
    {
      "cell_type": "code",
      "metadata": {
        "colab": {
          "base_uri": "https://localhost:8080/"
        },
        "id": "WvkG3aVtoqOu",
        "outputId": "4e7ea6ab-9ff0-45c0-90c5-7390ea12cb2a"
      },
      "source": [
        "validation_ds = tf.keras.preprocessing.image_dataset_from_directory(\n",
        "  data_dir,\n",
        "  validation_split=0.2,\n",
        "  seed=5,\n",
        "  shuffle=True,\n",
        "  subset=\"validation\",\n",
        "  image_size=(img_height, img_width),\n",
        "  batch_size=32)"
      ],
      "execution_count": 5,
      "outputs": [
        {
          "output_type": "stream",
          "text": [
            "Found 17676 files belonging to 7 classes.\n",
            "Using 3535 files for validation.\n"
          ],
          "name": "stdout"
        }
      ]
    },
    {
      "cell_type": "code",
      "metadata": {
        "colab": {
          "base_uri": "https://localhost:8080/"
        },
        "id": "dlPxOXH1pkEW",
        "outputId": "e0f96cc0-43fa-4dde-aeaa-72ed8d3d568e"
      },
      "source": [
        "classes = train_ds.class_names\n",
        "print(classes)"
      ],
      "execution_count": 6,
      "outputs": [
        {
          "output_type": "stream",
          "text": [
            "['0', '1', '2', '3', '4', '5', '6']\n"
          ],
          "name": "stdout"
        }
      ]
    },
    {
      "cell_type": "code",
      "metadata": {
        "id": "H6ie_Mhr_zeV"
      },
      "source": [
        "AUTOTUNE = tf.data.experimental.AUTOTUNE\r\n",
        "\r\n",
        "train = train_ds.cache().prefetch(buffer_size=AUTOTUNE)\r\n",
        "validation = validation_ds.cache().prefetch(buffer_size=AUTOTUNE)"
      ],
      "execution_count": 7,
      "outputs": []
    },
    {
      "cell_type": "code",
      "metadata": {
        "id": "tRbdKwnp02Ww"
      },
      "source": [
        "model = tf.keras.Sequential([\n",
        "                             tf.keras.layers.experimental.preprocessing.Rescaling(1./255),\n",
        "                             tf.keras.layers.Conv2D(32, (5, 5), activation='relu', input_shape=(128, 128, 3)),\n",
        "                             tf.keras.layers.MaxPooling2D((2, 2)),\n",
        "                             tf.keras.layers.Conv2D(32, (5, 5), activation='relu'),\n",
        "                             tf.keras.layers.MaxPooling2D((2, 2)),\n",
        "                             tf.keras.layers.Conv2D(32, (5, 5), activation='relu'),\n",
        "                             tf.keras.layers.MaxPooling2D((2, 2)),\n",
        "                             tf.keras.layers.Flatten(),\n",
        "                             tf.keras.layers.Dense(512, activation=\"relu\"),\n",
        "                             tf.keras.layers.Dense(128, activation=\"relu\"),\n",
        "                             tf.keras.layers.Dense(64, activation=\"relu\"),\n",
        "                             tf.keras.layers.Dense(32, activation=\"relu\"),\n",
        "                             tf.keras.layers.Dense(7)\n",
        "])"
      ],
      "execution_count": 8,
      "outputs": []
    },
    {
      "cell_type": "code",
      "metadata": {
        "id": "fdu6J4bX5bmo"
      },
      "source": [
        "model.compile(optimizer='adam',\n",
        "              loss=tf.keras.losses.SparseCategoricalCrossentropy(from_logits=True),\n",
        "              metrics=['accuracy'])"
      ],
      "execution_count": 9,
      "outputs": []
    },
    {
      "cell_type": "code",
      "metadata": {
        "id": "8pNh7T24u61M"
      },
      "source": [
        "class CustomCallbacks(tf.keras.callbacks.Callback):\r\n",
        "    def on_epoch_end(self, epoch, logs={}):\r\n",
        "      if(logs.get('accuracy')>0.98):\r\n",
        "        print(\"\\n 98% acc reached\")\r\n",
        "        self.model.stop_training = True"
      ],
      "execution_count": 10,
      "outputs": []
    },
    {
      "cell_type": "code",
      "metadata": {
        "id": "LwlWhPfa_GSq",
        "colab": {
          "base_uri": "https://localhost:8080/"
        },
        "outputId": "f0440668-0aa2-4839-bdcd-0e7b1fbc1611"
      },
      "source": [
        "model.fit(\r\n",
        "  train,\r\n",
        "  validation_data=validation,\r\n",
        "  epochs=15,\r\n",
        "  callbacks=[CustomCallbacks()]\r\n",
        ")"
      ],
      "execution_count": 11,
      "outputs": [
        {
          "output_type": "stream",
          "text": [
            "Epoch 1/15\n",
            "442/442 [==============================] - 71s 154ms/step - loss: 1.9450 - accuracy: 0.1432 - val_loss: 1.8290 - val_accuracy: 0.2529\n",
            "Epoch 2/15\n",
            "442/442 [==============================] - 7s 16ms/step - loss: 1.6121 - accuracy: 0.3396 - val_loss: 0.9783 - val_accuracy: 0.6068\n",
            "Epoch 3/15\n",
            "442/442 [==============================] - 7s 16ms/step - loss: 0.9060 - accuracy: 0.6383 - val_loss: 0.7646 - val_accuracy: 0.7016\n",
            "Epoch 4/15\n",
            "442/442 [==============================] - 7s 16ms/step - loss: 0.6086 - accuracy: 0.7640 - val_loss: 0.6147 - val_accuracy: 0.7686\n",
            "Epoch 5/15\n",
            "442/442 [==============================] - 7s 16ms/step - loss: 0.4045 - accuracy: 0.8466 - val_loss: 0.4854 - val_accuracy: 0.8385\n",
            "Epoch 6/15\n",
            "442/442 [==============================] - 7s 16ms/step - loss: 0.2597 - accuracy: 0.9046 - val_loss: 0.4463 - val_accuracy: 0.8563\n",
            "Epoch 7/15\n",
            "442/442 [==============================] - 7s 16ms/step - loss: 0.1939 - accuracy: 0.9311 - val_loss: 0.4180 - val_accuracy: 0.8741\n",
            "Epoch 8/15\n",
            "442/442 [==============================] - 7s 16ms/step - loss: 0.1286 - accuracy: 0.9526 - val_loss: 0.3568 - val_accuracy: 0.9038\n",
            "Epoch 9/15\n",
            "442/442 [==============================] - 7s 16ms/step - loss: 0.1064 - accuracy: 0.9634 - val_loss: 0.3770 - val_accuracy: 0.9030\n",
            "Epoch 10/15\n",
            "442/442 [==============================] - 7s 16ms/step - loss: 0.0798 - accuracy: 0.9734 - val_loss: 0.3825 - val_accuracy: 0.9035\n",
            "Epoch 11/15\n",
            "442/442 [==============================] - 7s 16ms/step - loss: 0.0815 - accuracy: 0.9714 - val_loss: 0.3441 - val_accuracy: 0.9188\n",
            "Epoch 12/15\n",
            "442/442 [==============================] - 7s 16ms/step - loss: 0.0528 - accuracy: 0.9810 - val_loss: 0.3512 - val_accuracy: 0.9219\n",
            "\n",
            " 98% acc reached\n"
          ],
          "name": "stdout"
        },
        {
          "output_type": "execute_result",
          "data": {
            "text/plain": [
              "<tensorflow.python.keras.callbacks.History at 0x7f941fca61d0>"
            ]
          },
          "metadata": {
            "tags": []
          },
          "execution_count": 11
        }
      ]
    },
    {
      "cell_type": "code",
      "metadata": {
        "id": "xc6V0ZQ8xFPr"
      },
      "source": [
        ""
      ],
      "execution_count": null,
      "outputs": []
    }
  ]
}