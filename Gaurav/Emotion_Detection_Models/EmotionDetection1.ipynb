{
 "cells": [
  {
   "cell_type": "markdown",
   "metadata": {
    "colab_type": "text",
    "id": "view-in-github"
   },
   "source": [
    "<a href=\"https://colab.research.google.com/github/arjunparmar/TUNEX/blob/main/EmotionDetection1.ipynb\" target=\"_parent\"><img src=\"https://colab.research.google.com/assets/colab-badge.svg\" alt=\"Open In Colab\"/></a>"
   ]
  },
  {
   "cell_type": "code",
   "execution_count": 1,
   "metadata": {
    "id": "bkxZnWFtKdyR"
   },
   "outputs": [],
   "source": [
    "import numpy as np\n",
    "import matplotlib.pyplot as plt\n",
    "import keras\n",
    "import os\n",
    "import PIL\n",
    "import pathlib\n",
    "import tensorflow as tf"
   ]
  },
  {
   "cell_type": "code",
   "execution_count": 2,
   "metadata": {
    "id": "Ttl2_KgYofqq"
   },
   "outputs": [],
   "source": [
    "data_dir = \"/content/drive/MyDrive/dataset/main\"\n",
    "data_dir = pathlib.Path(data_dir)\n",
    "img_height = 128\n",
    "img_width = 128\n",
    "batch_size = 17640"
   ]
  },
  {
   "cell_type": "code",
   "execution_count": 3,
   "metadata": {
    "colab": {
     "base_uri": "https://localhost:8080/"
    },
    "id": "60jhFyIb_hux",
    "outputId": "25049acb-e4b0-4ccc-9ea6-86553f306e1a"
   },
   "outputs": [
    {
     "name": "stdout",
     "output_type": "stream",
     "text": [
      "14730\n"
     ]
    }
   ],
   "source": [
    "image_count = len(list(data_dir.glob('*/*.jpg')))\n",
    "print(image_count)\n"
   ]
  },
  {
   "cell_type": "code",
   "execution_count": 4,
   "metadata": {
    "colab": {
     "base_uri": "https://localhost:8080/"
    },
    "id": "O4CU13Y5oqDh",
    "outputId": "473d00c9-2df0-4c4c-fe45-bfdf3c061d95"
   },
   "outputs": [
    {
     "name": "stdout",
     "output_type": "stream",
     "text": [
      "Found 17676 files belonging to 7 classes.\n",
      "Using 14141 files for training.\n"
     ]
    }
   ],
   "source": [
    "train_ds = tf.keras.preprocessing.image_dataset_from_directory(\n",
    "  data_dir,\n",
    "  validation_split=0.2,\n",
    "  seed=5,\n",
    "  shuffle=True,\n",
    "  subset=\"training\",\n",
    "  image_size=(img_height, img_width),\n",
    "  batch_size=32)"
   ]
  },
  {
   "cell_type": "code",
   "execution_count": 5,
   "metadata": {
    "colab": {
     "base_uri": "https://localhost:8080/"
    },
    "id": "WvkG3aVtoqOu",
    "outputId": "4e7ea6ab-9ff0-45c0-90c5-7390ea12cb2a"
   },
   "outputs": [
    {
     "name": "stdout",
     "output_type": "stream",
     "text": [
      "Found 17676 files belonging to 7 classes.\n",
      "Using 3535 files for validation.\n"
     ]
    }
   ],
   "source": [
    "validation_ds = tf.keras.preprocessing.image_dataset_from_directory(\n",
    "  data_dir,\n",
    "  validation_split=0.2,\n",
    "  seed=5,\n",
    "  shuffle=True,\n",
    "  subset=\"validation\",\n",
    "  image_size=(img_height, img_width),\n",
    "  batch_size=32)"
   ]
  },
  {
   "cell_type": "code",
   "execution_count": 6,
   "metadata": {
    "colab": {
     "base_uri": "https://localhost:8080/"
    },
    "id": "dlPxOXH1pkEW",
    "outputId": "e0f96cc0-43fa-4dde-aeaa-72ed8d3d568e"
   },
   "outputs": [
    {
     "name": "stdout",
     "output_type": "stream",
     "text": [
      "['0', '1', '2', '3', '4', '5', '6']\n"
     ]
    }
   ],
   "source": [
    "classes = train_ds.class_names\n",
    "print(classes)"
   ]
  },
  {
   "cell_type": "code",
   "execution_count": 7,
   "metadata": {
    "id": "H6ie_Mhr_zeV"
   },
   "outputs": [],
   "source": [
    "AUTOTUNE = tf.data.experimental.AUTOTUNE\n",
    "\n",
    "train = train_ds.cache().prefetch(buffer_size=AUTOTUNE)\n",
    "validation = validation_ds.cache().prefetch(buffer_size=AUTOTUNE)"
   ]
  },
  {
   "cell_type": "code",
   "execution_count": 8,
   "metadata": {
    "id": "tRbdKwnp02Ww"
   },
   "outputs": [],
   "source": [
    "model = tf.keras.Sequential([\n",
    "                             tf.keras.layers.experimental.preprocessing.Rescaling(1./255),\n",
    "                             tf.keras.layers.Conv2D(32, (5, 5), activation='relu', input_shape=(128, 128, 3)),\n",
    "                             tf.keras.layers.MaxPooling2D((2, 2)),\n",
    "                             tf.keras.layers.Conv2D(32, (5, 5), activation='relu'),\n",
    "                             tf.keras.layers.MaxPooling2D((2, 2)),\n",
    "                             tf.keras.layers.Conv2D(32, (5, 5), activation='relu'),\n",
    "                             tf.keras.layers.MaxPooling2D((2, 2)),\n",
    "                             tf.keras.layers.Flatten(),\n",
    "                             tf.keras.layers.Dense(512, activation=\"relu\"),\n",
    "                             tf.keras.layers.Dense(128, activation=\"relu\"),\n",
    "                             tf.keras.layers.Dense(64, activation=\"relu\"),\n",
    "                             tf.keras.layers.Dense(32, activation=\"relu\"),\n",
    "                             tf.keras.layers.Dense(7)\n",
    "])"
   ]
  },
  {
   "cell_type": "code",
   "execution_count": 9,
   "metadata": {
    "id": "fdu6J4bX5bmo"
   },
   "outputs": [],
   "source": [
    "model.compile(optimizer='adam',\n",
    "              loss=tf.keras.losses.SparseCategoricalCrossentropy(from_logits=True),\n",
    "              metrics=['accuracy'])"
   ]
  },
  {
   "cell_type": "code",
   "execution_count": 10,
   "metadata": {
    "id": "8pNh7T24u61M"
   },
   "outputs": [],
   "source": [
    "class CustomCallbacks(tf.keras.callbacks.Callback):\n",
    "    def on_epoch_end(self, epoch, logs={}):\n",
    "      if(logs.get('accuracy')>0.98):\n",
    "        print(\"\\n 98% acc reached\")\n",
    "        self.model.stop_training = True"
   ]
  },
  {
   "cell_type": "code",
   "execution_count": 11,
   "metadata": {
    "colab": {
     "base_uri": "https://localhost:8080/"
    },
    "id": "LwlWhPfa_GSq",
    "outputId": "f0440668-0aa2-4839-bdcd-0e7b1fbc1611"
   },
   "outputs": [
    {
     "name": "stdout",
     "output_type": "stream",
     "text": [
      "Epoch 1/15\n",
      "442/442 [==============================] - 71s 154ms/step - loss: 1.9450 - accuracy: 0.1432 - val_loss: 1.8290 - val_accuracy: 0.2529\n",
      "Epoch 2/15\n",
      "442/442 [==============================] - 7s 16ms/step - loss: 1.6121 - accuracy: 0.3396 - val_loss: 0.9783 - val_accuracy: 0.6068\n",
      "Epoch 3/15\n",
      "442/442 [==============================] - 7s 16ms/step - loss: 0.9060 - accuracy: 0.6383 - val_loss: 0.7646 - val_accuracy: 0.7016\n",
      "Epoch 4/15\n",
      "442/442 [==============================] - 7s 16ms/step - loss: 0.6086 - accuracy: 0.7640 - val_loss: 0.6147 - val_accuracy: 0.7686\n",
      "Epoch 5/15\n",
      "442/442 [==============================] - 7s 16ms/step - loss: 0.4045 - accuracy: 0.8466 - val_loss: 0.4854 - val_accuracy: 0.8385\n",
      "Epoch 6/15\n",
      "442/442 [==============================] - 7s 16ms/step - loss: 0.2597 - accuracy: 0.9046 - val_loss: 0.4463 - val_accuracy: 0.8563\n",
      "Epoch 7/15\n",
      "442/442 [==============================] - 7s 16ms/step - loss: 0.1939 - accuracy: 0.9311 - val_loss: 0.4180 - val_accuracy: 0.8741\n",
      "Epoch 8/15\n",
      "442/442 [==============================] - 7s 16ms/step - loss: 0.1286 - accuracy: 0.9526 - val_loss: 0.3568 - val_accuracy: 0.9038\n",
      "Epoch 9/15\n",
      "442/442 [==============================] - 7s 16ms/step - loss: 0.1064 - accuracy: 0.9634 - val_loss: 0.3770 - val_accuracy: 0.9030\n",
      "Epoch 10/15\n",
      "442/442 [==============================] - 7s 16ms/step - loss: 0.0798 - accuracy: 0.9734 - val_loss: 0.3825 - val_accuracy: 0.9035\n",
      "Epoch 11/15\n",
      "442/442 [==============================] - 7s 16ms/step - loss: 0.0815 - accuracy: 0.9714 - val_loss: 0.3441 - val_accuracy: 0.9188\n",
      "Epoch 12/15\n",
      "442/442 [==============================] - 7s 16ms/step - loss: 0.0528 - accuracy: 0.9810 - val_loss: 0.3512 - val_accuracy: 0.9219\n",
      "\n",
      " 98% acc reached\n"
     ]
    },
    {
     "data": {
      "text/plain": [
       "<tensorflow.python.keras.callbacks.History at 0x7f941fca61d0>"
      ]
     },
     "execution_count": 11,
     "metadata": {
      "tags": []
     },
     "output_type": "execute_result"
    }
   ],
   "source": [
    "model.fit(\n",
    "  train,\n",
    "  validation_data=validation,\n",
    "  epochs=15,\n",
    "  callbacks=[CustomCallbacks()]\n",
    ")"
   ]
  },
  {
   "cell_type": "code",
   "execution_count": null,
   "metadata": {
    "id": "xc6V0ZQ8xFPr"
   },
   "outputs": [],
   "source": []
  }
 ],
 "metadata": {
  "accelerator": "GPU",
  "colab": {
   "authorship_tag": "ABX9TyM+X0XW5I1RAnBUz2mrmKer",
   "collapsed_sections": [],
   "include_colab_link": true,
   "mount_file_id": "1jHA0jv5FXu7Jxc7jCO8qE2OMXjqtZlJX",
   "name": "EmotionDetection1.ipynb",
   "provenance": []
  },
  "kernelspec": {
   "display_name": "Python 3",
   "language": "python",
   "name": "python3"
  },
  "language_info": {
   "codemirror_mode": {
    "name": "ipython",
    "version": 3
   },
   "file_extension": ".py",
   "mimetype": "text/x-python",
   "name": "python",
   "nbconvert_exporter": "python",
   "pygments_lexer": "ipython3",
   "version": "3.7.6"
  }
 },
 "nbformat": 4,
 "nbformat_minor": 1
}
