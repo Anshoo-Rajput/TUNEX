{
  "nbformat": 4,
  "nbformat_minor": 0,
  "metadata": {
    "colab": {
      "name": "model_on_fer.ipynb",
      "provenance": []
    },
    "kernelspec": {
      "name": "python3",
      "display_name": "Python 3"
    },
    "accelerator": "GPU"
  },
  "cells": [
    {
      "cell_type": "code",
      "metadata": {
        "id": "HPPcsPZfHzmq"
      },
      "source": [
        "import numpy as np\n",
        "import pickle\n",
        "import matplotlib.pyplot as plt \n",
        "import tensorflow as tf\n",
        "import keras\n",
        "import matplotlib.pyplot as plt\n",
        "import cv2"
      ],
      "execution_count": 1,
      "outputs": []
    },
    {
      "cell_type": "code",
      "metadata": {
        "id": "hsm622qnsAGD"
      },
      "source": [
        "def read_pickle(directory):\n",
        "    f = open(directory,\"rb\")\n",
        "    X = pickle.load(f)\n",
        "    return np.array(X)"
      ],
      "execution_count": 2,
      "outputs": []
    },
    {
      "cell_type": "code",
      "metadata": {
        "id": "2yud5-kVshiS"
      },
      "source": [
        "base_dir = '/content/drive/Shareddrives/TUNEX/'\n",
        "\n",
        "X_train = read_pickle(base_dir+'X_Train.pickle')/255.0\n",
        "y_train = read_pickle(base_dir+\"y_Train.pickle\")\n",
        "X_val = read_pickle(base_dir+'X_val.pickle')/255.0\n",
        "y_val = read_pickle(base_dir+\"y_val.pickle\")"
      ],
      "execution_count": 3,
      "outputs": []
    },
    {
      "cell_type": "code",
      "metadata": {
        "id": "CLsp4aDNtNU_"
      },
      "source": [
        "X_train = X_train.reshape(X_train.shape[0],X_train.shape[1], X_train.shape[2], -1)\n",
        "X_val = X_val.reshape(X_val.shape[0],X_val.shape[1], X_val.shape[2], -1)"
      ],
      "execution_count": 19,
      "outputs": []
    },
    {
      "cell_type": "code",
      "metadata": {
        "id": "akpyoblttZUC"
      },
      "source": [
        "from keras.layers import Dense, Input, Dropout, GlobalAveragePooling2D, Flatten, Conv2D, BatchNormalization, Activation, MaxPooling2D\n",
        "from keras.models import Model, Sequential\n",
        "from keras.optimizers import Adam"
      ],
      "execution_count": 5,
      "outputs": []
    },
    {
      "cell_type": "code",
      "metadata": {
        "id": "pyvaB0uk04vL"
      },
      "source": [
        "model = Sequential([\n",
        "                    Conv2D(32,(3,3), padding='same', activation='relu',input_shape=(48, 48, 1)),\n",
        "                    BatchNormalization(),\n",
        "                    MaxPooling2D((2,2)),\n",
        "                    Dropout(0.25),\n",
        "\n",
        "                    Conv2D(32,(3,3), activation='relu',padding='same'),\n",
        "                    BatchNormalization(),\n",
        "                    MaxPooling2D((2,2)),\n",
        "                    Dropout(0.25),\n",
        "\n",
        "                    Conv2D(32,(3,3), activation='relu',padding='same'),\n",
        "                    BatchNormalization(),\n",
        "                    MaxPooling2D((2,2)),\n",
        "                    Dropout(0.25),\n",
        "\n",
        "                    Conv2D(32,(3,3), activation='relu', padding='same'),\n",
        "                    BatchNormalization(),\n",
        "                    MaxPooling2D((2,2)),\n",
        "                    Dropout(0.25),\n",
        "\n",
        "                    Flatten(),\n",
        "\n",
        "                    Dense(256, activation='relu'),\n",
        "                    Dense(512, activation='relu'),\n",
        "                    Dense(128, activation='relu'),\n",
        "                    Dense(7, activation='softmax'),\n",
        "\n",
        "])"
      ],
      "execution_count": 25,
      "outputs": []
    },
    {
      "cell_type": "code",
      "metadata": {
        "colab": {
          "base_uri": "https://localhost:8080/"
        },
        "id": "bYtImeza2m58",
        "outputId": "02822a01-245f-484b-fc75-032255170faf"
      },
      "source": [
        "model.summary()"
      ],
      "execution_count": 26,
      "outputs": [
        {
          "output_type": "stream",
          "text": [
            "Model: \"sequential_3\"\n",
            "_________________________________________________________________\n",
            "Layer (type)                 Output Shape              Param #   \n",
            "=================================================================\n",
            "conv2d_16 (Conv2D)           (None, 48, 48, 32)        320       \n",
            "_________________________________________________________________\n",
            "batch_normalization_16 (Batc (None, 48, 48, 32)        128       \n",
            "_________________________________________________________________\n",
            "max_pooling2d_16 (MaxPooling (None, 24, 24, 32)        0         \n",
            "_________________________________________________________________\n",
            "dropout_16 (Dropout)         (None, 24, 24, 32)        0         \n",
            "_________________________________________________________________\n",
            "conv2d_17 (Conv2D)           (None, 24, 24, 32)        9248      \n",
            "_________________________________________________________________\n",
            "batch_normalization_17 (Batc (None, 24, 24, 32)        128       \n",
            "_________________________________________________________________\n",
            "max_pooling2d_17 (MaxPooling (None, 12, 12, 32)        0         \n",
            "_________________________________________________________________\n",
            "dropout_17 (Dropout)         (None, 12, 12, 32)        0         \n",
            "_________________________________________________________________\n",
            "conv2d_18 (Conv2D)           (None, 12, 12, 32)        9248      \n",
            "_________________________________________________________________\n",
            "batch_normalization_18 (Batc (None, 12, 12, 32)        128       \n",
            "_________________________________________________________________\n",
            "max_pooling2d_18 (MaxPooling (None, 6, 6, 32)          0         \n",
            "_________________________________________________________________\n",
            "dropout_18 (Dropout)         (None, 6, 6, 32)          0         \n",
            "_________________________________________________________________\n",
            "conv2d_19 (Conv2D)           (None, 6, 6, 32)          9248      \n",
            "_________________________________________________________________\n",
            "batch_normalization_19 (Batc (None, 6, 6, 32)          128       \n",
            "_________________________________________________________________\n",
            "max_pooling2d_19 (MaxPooling (None, 3, 3, 32)          0         \n",
            "_________________________________________________________________\n",
            "dropout_19 (Dropout)         (None, 3, 3, 32)          0         \n",
            "_________________________________________________________________\n",
            "flatten_4 (Flatten)          (None, 288)               0         \n",
            "_________________________________________________________________\n",
            "dense_12 (Dense)             (None, 256)               73984     \n",
            "_________________________________________________________________\n",
            "dense_13 (Dense)             (None, 512)               131584    \n",
            "_________________________________________________________________\n",
            "dense_14 (Dense)             (None, 128)               65664     \n",
            "_________________________________________________________________\n",
            "dense_15 (Dense)             (None, 7)                 903       \n",
            "=================================================================\n",
            "Total params: 300,711\n",
            "Trainable params: 300,455\n",
            "Non-trainable params: 256\n",
            "_________________________________________________________________\n"
          ],
          "name": "stdout"
        }
      ]
    },
    {
      "cell_type": "code",
      "metadata": {
        "id": "C8zBnNTy3U6V"
      },
      "source": [
        "opt = Adam(lr=0.0005)\n",
        "model.compile(optimizer=opt,\n",
        "              loss='sparse_categorical_crossentropy', \n",
        "              metrics=['accuracy'])"
      ],
      "execution_count": 27,
      "outputs": []
    },
    {
      "cell_type": "code",
      "metadata": {
        "colab": {
          "base_uri": "https://localhost:8080/"
        },
        "id": "rJraYJj13pBn",
        "outputId": "1a636f24-e023-4481-dd5a-a64f4f8fc929"
      },
      "source": [
        "history = model.fit(\n",
        "    X_train, y_train,\n",
        "    epochs = 100,\n",
        "    validation_data=(X_val, y_val),\n",
        "    batch_size = 32\n",
        ")"
      ],
      "execution_count": 28,
      "outputs": [
        {
          "output_type": "stream",
          "text": [
            "Epoch 1/100\n",
            "901/901 [==============================] - 5s 5ms/step - loss: 1.7904 - accuracy: 0.2600 - val_loss: 1.5709 - val_accuracy: 0.3864\n",
            "Epoch 2/100\n",
            "901/901 [==============================] - 4s 5ms/step - loss: 1.5939 - accuracy: 0.3704 - val_loss: 1.4628 - val_accuracy: 0.4377\n",
            "Epoch 3/100\n",
            "901/901 [==============================] - 4s 5ms/step - loss: 1.4814 - accuracy: 0.4249 - val_loss: 1.6063 - val_accuracy: 0.3735\n",
            "Epoch 4/100\n",
            "901/901 [==============================] - 4s 5ms/step - loss: 1.4084 - accuracy: 0.4549 - val_loss: 1.3092 - val_accuracy: 0.4938\n",
            "Epoch 5/100\n",
            "901/901 [==============================] - 4s 5ms/step - loss: 1.3531 - accuracy: 0.4739 - val_loss: 1.4924 - val_accuracy: 0.4324\n",
            "Epoch 6/100\n",
            "901/901 [==============================] - 4s 5ms/step - loss: 1.3138 - accuracy: 0.4943 - val_loss: 1.4809 - val_accuracy: 0.4348\n",
            "Epoch 7/100\n",
            "901/901 [==============================] - 4s 5ms/step - loss: 1.2694 - accuracy: 0.5111 - val_loss: 1.2379 - val_accuracy: 0.5243\n",
            "Epoch 8/100\n",
            "901/901 [==============================] - 4s 5ms/step - loss: 1.2370 - accuracy: 0.5243 - val_loss: 1.2098 - val_accuracy: 0.5408\n",
            "Epoch 9/100\n",
            "901/901 [==============================] - 4s 5ms/step - loss: 1.2149 - accuracy: 0.5332 - val_loss: 1.2119 - val_accuracy: 0.5389\n",
            "Epoch 10/100\n",
            "901/901 [==============================] - 4s 5ms/step - loss: 1.1873 - accuracy: 0.5445 - val_loss: 1.1734 - val_accuracy: 0.5478\n",
            "Epoch 11/100\n",
            "901/901 [==============================] - 4s 5ms/step - loss: 1.1582 - accuracy: 0.5605 - val_loss: 1.1835 - val_accuracy: 0.5519\n",
            "Epoch 12/100\n",
            "901/901 [==============================] - 4s 5ms/step - loss: 1.1498 - accuracy: 0.5590 - val_loss: 1.1770 - val_accuracy: 0.5626\n",
            "Epoch 13/100\n",
            "901/901 [==============================] - 4s 5ms/step - loss: 1.1297 - accuracy: 0.5701 - val_loss: 1.1570 - val_accuracy: 0.5635\n",
            "Epoch 14/100\n",
            "901/901 [==============================] - 4s 5ms/step - loss: 1.1064 - accuracy: 0.5772 - val_loss: 1.1278 - val_accuracy: 0.5747\n",
            "Epoch 15/100\n",
            "901/901 [==============================] - 4s 5ms/step - loss: 1.0839 - accuracy: 0.5877 - val_loss: 1.1209 - val_accuracy: 0.5810\n",
            "Epoch 16/100\n",
            "901/901 [==============================] - 5s 5ms/step - loss: 1.0652 - accuracy: 0.5944 - val_loss: 1.1036 - val_accuracy: 0.5927\n",
            "Epoch 17/100\n",
            "901/901 [==============================] - 5s 5ms/step - loss: 1.0537 - accuracy: 0.5977 - val_loss: 1.1290 - val_accuracy: 0.5841\n",
            "Epoch 18/100\n",
            "901/901 [==============================] - 4s 5ms/step - loss: 1.0273 - accuracy: 0.6093 - val_loss: 1.1463 - val_accuracy: 0.5787\n",
            "Epoch 19/100\n",
            "901/901 [==============================] - 4s 5ms/step - loss: 1.0222 - accuracy: 0.6064 - val_loss: 1.2720 - val_accuracy: 0.5279\n",
            "Epoch 20/100\n",
            "901/901 [==============================] - 4s 5ms/step - loss: 0.9985 - accuracy: 0.6222 - val_loss: 1.1689 - val_accuracy: 0.5679\n",
            "Epoch 21/100\n",
            "901/901 [==============================] - 4s 5ms/step - loss: 0.9707 - accuracy: 0.6343 - val_loss: 1.1256 - val_accuracy: 0.5836\n",
            "Epoch 22/100\n",
            "901/901 [==============================] - 4s 5ms/step - loss: 0.9785 - accuracy: 0.6289 - val_loss: 1.1158 - val_accuracy: 0.5848\n",
            "Epoch 23/100\n",
            "901/901 [==============================] - 4s 5ms/step - loss: 0.9624 - accuracy: 0.6322 - val_loss: 1.1269 - val_accuracy: 0.5822\n",
            "Epoch 24/100\n",
            "901/901 [==============================] - 4s 5ms/step - loss: 0.9346 - accuracy: 0.6452 - val_loss: 1.1638 - val_accuracy: 0.5780\n",
            "Epoch 25/100\n",
            "901/901 [==============================] - 4s 5ms/step - loss: 0.9176 - accuracy: 0.6510 - val_loss: 1.1284 - val_accuracy: 0.5838\n",
            "Epoch 26/100\n",
            "901/901 [==============================] - 4s 5ms/step - loss: 0.9192 - accuracy: 0.6553 - val_loss: 1.1360 - val_accuracy: 0.5875\n",
            "Epoch 27/100\n",
            "901/901 [==============================] - 4s 5ms/step - loss: 0.8998 - accuracy: 0.6587 - val_loss: 1.1510 - val_accuracy: 0.5821\n",
            "Epoch 28/100\n",
            "901/901 [==============================] - 4s 5ms/step - loss: 0.8875 - accuracy: 0.6626 - val_loss: 1.1693 - val_accuracy: 0.5834\n",
            "Epoch 29/100\n",
            "901/901 [==============================] - 4s 5ms/step - loss: 0.8670 - accuracy: 0.6736 - val_loss: 1.1775 - val_accuracy: 0.5735\n",
            "Epoch 30/100\n",
            "901/901 [==============================] - 4s 5ms/step - loss: 0.8587 - accuracy: 0.6772 - val_loss: 1.2654 - val_accuracy: 0.5434\n",
            "Epoch 31/100\n",
            "901/901 [==============================] - 5s 5ms/step - loss: 0.8429 - accuracy: 0.6831 - val_loss: 1.1801 - val_accuracy: 0.5838\n",
            "Epoch 32/100\n",
            "901/901 [==============================] - 4s 5ms/step - loss: 0.8388 - accuracy: 0.6832 - val_loss: 1.1725 - val_accuracy: 0.5856\n",
            "Epoch 33/100\n",
            "901/901 [==============================] - 4s 5ms/step - loss: 0.8213 - accuracy: 0.6923 - val_loss: 1.2066 - val_accuracy: 0.5860\n",
            "Epoch 34/100\n",
            "901/901 [==============================] - 4s 5ms/step - loss: 0.8147 - accuracy: 0.6951 - val_loss: 1.2082 - val_accuracy: 0.5862\n",
            "Epoch 35/100\n",
            "901/901 [==============================] - 4s 5ms/step - loss: 0.8012 - accuracy: 0.6959 - val_loss: 1.2303 - val_accuracy: 0.5661\n",
            "Epoch 36/100\n",
            "901/901 [==============================] - 4s 5ms/step - loss: 0.7785 - accuracy: 0.7102 - val_loss: 1.2157 - val_accuracy: 0.5737\n",
            "Epoch 37/100\n",
            "901/901 [==============================] - 4s 5ms/step - loss: 0.7759 - accuracy: 0.7091 - val_loss: 1.2660 - val_accuracy: 0.5628\n",
            "Epoch 38/100\n",
            "901/901 [==============================] - 4s 5ms/step - loss: 0.7735 - accuracy: 0.7122 - val_loss: 1.1753 - val_accuracy: 0.5961\n",
            "Epoch 39/100\n",
            "901/901 [==============================] - 4s 5ms/step - loss: 0.7477 - accuracy: 0.7199 - val_loss: 1.2044 - val_accuracy: 0.5890\n",
            "Epoch 40/100\n",
            "901/901 [==============================] - 4s 5ms/step - loss: 0.7502 - accuracy: 0.7211 - val_loss: 1.2297 - val_accuracy: 0.5935\n",
            "Epoch 41/100\n",
            "901/901 [==============================] - 5s 5ms/step - loss: 0.7245 - accuracy: 0.7314 - val_loss: 1.2243 - val_accuracy: 0.5991\n",
            "Epoch 42/100\n",
            "901/901 [==============================] - 5s 5ms/step - loss: 0.7218 - accuracy: 0.7285 - val_loss: 1.2246 - val_accuracy: 0.5940\n",
            "Epoch 43/100\n",
            "901/901 [==============================] - 5s 5ms/step - loss: 0.7248 - accuracy: 0.7268 - val_loss: 1.1997 - val_accuracy: 0.5957\n",
            "Epoch 44/100\n",
            "901/901 [==============================] - 4s 5ms/step - loss: 0.6997 - accuracy: 0.7373 - val_loss: 1.2429 - val_accuracy: 0.5944\n",
            "Epoch 45/100\n",
            "901/901 [==============================] - 4s 5ms/step - loss: 0.6954 - accuracy: 0.7392 - val_loss: 1.2395 - val_accuracy: 0.5909\n",
            "Epoch 46/100\n",
            "901/901 [==============================] - 4s 5ms/step - loss: 0.6833 - accuracy: 0.7470 - val_loss: 1.3358 - val_accuracy: 0.5695\n",
            "Epoch 47/100\n",
            "901/901 [==============================] - 5s 5ms/step - loss: 0.6820 - accuracy: 0.7465 - val_loss: 1.2881 - val_accuracy: 0.5877\n",
            "Epoch 48/100\n",
            "901/901 [==============================] - 4s 5ms/step - loss: 0.6838 - accuracy: 0.7450 - val_loss: 1.2670 - val_accuracy: 0.5868\n",
            "Epoch 49/100\n",
            "901/901 [==============================] - 4s 5ms/step - loss: 0.6669 - accuracy: 0.7500 - val_loss: 1.3243 - val_accuracy: 0.5797\n",
            "Epoch 50/100\n",
            "901/901 [==============================] - 4s 5ms/step - loss: 0.6780 - accuracy: 0.7506 - val_loss: 1.3501 - val_accuracy: 0.5756\n",
            "Epoch 51/100\n",
            "901/901 [==============================] - 4s 5ms/step - loss: 0.6565 - accuracy: 0.7571 - val_loss: 1.2749 - val_accuracy: 0.5903\n",
            "Epoch 52/100\n",
            "901/901 [==============================] - 4s 5ms/step - loss: 0.6407 - accuracy: 0.7634 - val_loss: 1.3638 - val_accuracy: 0.5659\n",
            "Epoch 53/100\n",
            "901/901 [==============================] - 4s 5ms/step - loss: 0.6437 - accuracy: 0.7609 - val_loss: 1.4317 - val_accuracy: 0.5549\n",
            "Epoch 54/100\n",
            "901/901 [==============================] - 4s 5ms/step - loss: 0.6311 - accuracy: 0.7613 - val_loss: 1.2836 - val_accuracy: 0.5947\n",
            "Epoch 55/100\n",
            "901/901 [==============================] - 4s 5ms/step - loss: 0.6260 - accuracy: 0.7651 - val_loss: 1.3742 - val_accuracy: 0.5761\n",
            "Epoch 56/100\n",
            "901/901 [==============================] - 5s 5ms/step - loss: 0.6136 - accuracy: 0.7758 - val_loss: 1.3610 - val_accuracy: 0.5817\n",
            "Epoch 57/100\n",
            "901/901 [==============================] - 4s 5ms/step - loss: 0.6071 - accuracy: 0.7761 - val_loss: 1.4780 - val_accuracy: 0.5473\n",
            "Epoch 58/100\n",
            "901/901 [==============================] - 4s 5ms/step - loss: 0.5976 - accuracy: 0.7786 - val_loss: 1.4077 - val_accuracy: 0.5746\n",
            "Epoch 59/100\n",
            "901/901 [==============================] - 4s 5ms/step - loss: 0.5855 - accuracy: 0.7827 - val_loss: 1.3818 - val_accuracy: 0.5764\n",
            "Epoch 60/100\n",
            "901/901 [==============================] - 4s 5ms/step - loss: 0.5919 - accuracy: 0.7816 - val_loss: 1.3439 - val_accuracy: 0.5940\n",
            "Epoch 61/100\n",
            "901/901 [==============================] - 4s 5ms/step - loss: 0.5868 - accuracy: 0.7841 - val_loss: 1.3649 - val_accuracy: 0.5988\n",
            "Epoch 62/100\n",
            "901/901 [==============================] - 4s 5ms/step - loss: 0.5795 - accuracy: 0.7830 - val_loss: 1.3647 - val_accuracy: 0.5790\n",
            "Epoch 63/100\n",
            "901/901 [==============================] - 4s 5ms/step - loss: 0.5746 - accuracy: 0.7874 - val_loss: 1.4445 - val_accuracy: 0.5834\n",
            "Epoch 64/100\n",
            "901/901 [==============================] - 4s 5ms/step - loss: 0.5680 - accuracy: 0.7882 - val_loss: 1.3511 - val_accuracy: 0.5909\n",
            "Epoch 65/100\n",
            "901/901 [==============================] - 4s 5ms/step - loss: 0.5509 - accuracy: 0.7953 - val_loss: 1.4058 - val_accuracy: 0.5807\n",
            "Epoch 66/100\n",
            "901/901 [==============================] - 4s 5ms/step - loss: 0.5652 - accuracy: 0.7890 - val_loss: 1.4518 - val_accuracy: 0.5868\n",
            "Epoch 67/100\n",
            "901/901 [==============================] - 4s 5ms/step - loss: 0.5512 - accuracy: 0.7945 - val_loss: 1.3973 - val_accuracy: 0.5855\n",
            "Epoch 68/100\n",
            "901/901 [==============================] - 5s 5ms/step - loss: 0.5431 - accuracy: 0.7982 - val_loss: 1.4107 - val_accuracy: 0.5794\n",
            "Epoch 69/100\n",
            "901/901 [==============================] - 5s 5ms/step - loss: 0.5287 - accuracy: 0.8042 - val_loss: 1.4500 - val_accuracy: 0.5805\n",
            "Epoch 70/100\n",
            "901/901 [==============================] - 4s 5ms/step - loss: 0.5360 - accuracy: 0.8019 - val_loss: 1.3995 - val_accuracy: 0.5862\n",
            "Epoch 71/100\n",
            "901/901 [==============================] - 4s 5ms/step - loss: 0.5273 - accuracy: 0.8020 - val_loss: 1.4122 - val_accuracy: 0.5923\n",
            "Epoch 72/100\n",
            "901/901 [==============================] - 4s 5ms/step - loss: 0.5372 - accuracy: 0.8037 - val_loss: 1.3900 - val_accuracy: 0.6003\n",
            "Epoch 73/100\n",
            "901/901 [==============================] - 4s 5ms/step - loss: 0.5250 - accuracy: 0.8081 - val_loss: 1.4676 - val_accuracy: 0.5855\n",
            "Epoch 74/100\n",
            "901/901 [==============================] - 4s 5ms/step - loss: 0.5144 - accuracy: 0.8109 - val_loss: 1.4521 - val_accuracy: 0.5787\n",
            "Epoch 75/100\n",
            "901/901 [==============================] - 5s 5ms/step - loss: 0.5089 - accuracy: 0.8115 - val_loss: 1.5200 - val_accuracy: 0.5735\n",
            "Epoch 76/100\n",
            "901/901 [==============================] - 4s 5ms/step - loss: 0.5098 - accuracy: 0.8118 - val_loss: 1.5003 - val_accuracy: 0.5672\n",
            "Epoch 77/100\n",
            "901/901 [==============================] - 4s 5ms/step - loss: 0.4990 - accuracy: 0.8127 - val_loss: 1.5114 - val_accuracy: 0.5848\n",
            "Epoch 78/100\n",
            "901/901 [==============================] - 4s 5ms/step - loss: 0.5104 - accuracy: 0.8117 - val_loss: 1.4743 - val_accuracy: 0.5866\n",
            "Epoch 79/100\n",
            "901/901 [==============================] - 5s 5ms/step - loss: 0.4890 - accuracy: 0.8197 - val_loss: 1.5530 - val_accuracy: 0.5818\n",
            "Epoch 80/100\n",
            "901/901 [==============================] - 4s 5ms/step - loss: 0.4852 - accuracy: 0.8208 - val_loss: 1.4733 - val_accuracy: 0.5869\n",
            "Epoch 81/100\n",
            "901/901 [==============================] - 4s 5ms/step - loss: 0.4842 - accuracy: 0.8216 - val_loss: 1.5106 - val_accuracy: 0.5794\n",
            "Epoch 82/100\n",
            "901/901 [==============================] - 4s 5ms/step - loss: 0.4840 - accuracy: 0.8212 - val_loss: 1.5129 - val_accuracy: 0.5729\n",
            "Epoch 83/100\n",
            "901/901 [==============================] - 4s 5ms/step - loss: 0.4988 - accuracy: 0.8177 - val_loss: 1.5174 - val_accuracy: 0.5856\n",
            "Epoch 84/100\n",
            "901/901 [==============================] - 5s 5ms/step - loss: 0.4741 - accuracy: 0.8244 - val_loss: 1.5261 - val_accuracy: 0.5846\n",
            "Epoch 85/100\n",
            "901/901 [==============================] - 5s 5ms/step - loss: 0.4788 - accuracy: 0.8250 - val_loss: 1.4868 - val_accuracy: 0.5948\n",
            "Epoch 86/100\n",
            "901/901 [==============================] - 4s 5ms/step - loss: 0.4792 - accuracy: 0.8245 - val_loss: 1.4755 - val_accuracy: 0.5954\n",
            "Epoch 87/100\n",
            "901/901 [==============================] - 4s 5ms/step - loss: 0.4705 - accuracy: 0.8271 - val_loss: 1.5205 - val_accuracy: 0.5880\n",
            "Epoch 88/100\n",
            "901/901 [==============================] - 5s 5ms/step - loss: 0.4640 - accuracy: 0.8291 - val_loss: 1.4926 - val_accuracy: 0.5923\n",
            "Epoch 89/100\n",
            "901/901 [==============================] - 5s 5ms/step - loss: 0.4619 - accuracy: 0.8307 - val_loss: 1.5479 - val_accuracy: 0.5960\n",
            "Epoch 90/100\n",
            "901/901 [==============================] - 5s 5ms/step - loss: 0.4448 - accuracy: 0.8371 - val_loss: 1.5331 - val_accuracy: 0.5890\n",
            "Epoch 91/100\n",
            "901/901 [==============================] - 4s 5ms/step - loss: 0.4576 - accuracy: 0.8324 - val_loss: 1.5302 - val_accuracy: 0.5807\n",
            "Epoch 92/100\n",
            "901/901 [==============================] - 5s 5ms/step - loss: 0.4513 - accuracy: 0.8346 - val_loss: 1.5830 - val_accuracy: 0.5885\n",
            "Epoch 93/100\n",
            "901/901 [==============================] - 4s 5ms/step - loss: 0.4417 - accuracy: 0.8372 - val_loss: 1.5666 - val_accuracy: 0.5776\n",
            "Epoch 94/100\n",
            "901/901 [==============================] - 4s 5ms/step - loss: 0.4325 - accuracy: 0.8444 - val_loss: 1.6001 - val_accuracy: 0.5845\n",
            "Epoch 95/100\n",
            "901/901 [==============================] - 4s 5ms/step - loss: 0.4340 - accuracy: 0.8404 - val_loss: 1.5839 - val_accuracy: 0.5865\n",
            "Epoch 96/100\n",
            "901/901 [==============================] - 4s 5ms/step - loss: 0.4357 - accuracy: 0.8399 - val_loss: 1.5196 - val_accuracy: 0.5916\n",
            "Epoch 97/100\n",
            "901/901 [==============================] - 4s 5ms/step - loss: 0.4415 - accuracy: 0.8387 - val_loss: 1.5485 - val_accuracy: 0.5911\n",
            "Epoch 98/100\n",
            "901/901 [==============================] - 4s 5ms/step - loss: 0.4388 - accuracy: 0.8359 - val_loss: 1.6608 - val_accuracy: 0.5705\n",
            "Epoch 99/100\n",
            "901/901 [==============================] - 4s 5ms/step - loss: 0.4406 - accuracy: 0.8389 - val_loss: 1.5310 - val_accuracy: 0.5931\n",
            "Epoch 100/100\n",
            "901/901 [==============================] - 5s 5ms/step - loss: 0.4198 - accuracy: 0.8458 - val_loss: 1.5574 - val_accuracy: 0.5843\n"
          ],
          "name": "stdout"
        }
      ]
    },
    {
      "cell_type": "code",
      "metadata": {
        "id": "9R5IfOKw7rKn"
      },
      "source": [
        "def plot_history(history):\n",
        "    plt.plot(history.history['accuracy'])\n",
        "    plt.plot(history.history['val_accuracy'])\n",
        "    plt.title('model accuracy')\n",
        "    plt.ylabel('accuracy')\n",
        "    plt.xlabel('epoch')\n",
        "    plt.legend(['train', 'test'], loc='upper left')\n",
        "    plt.show()\n",
        "    plt.plot(history.history['loss'])\n",
        "    plt.plot(history.history['val_loss'])\n",
        "    plt.title('model loss')\n",
        "    plt.ylabel('loss')\n",
        "    plt.xlabel('epoch')\n",
        "    plt.legend(['train', 'test'], loc='upper left')\n",
        "    plt.show()"
      ],
      "execution_count": 29,
      "outputs": []
    },
    {
      "cell_type": "code",
      "metadata": {
        "colab": {
          "base_uri": "https://localhost:8080/",
          "height": 573
        },
        "id": "mkZn74NP8hE1",
        "outputId": "41d94e43-774e-40fd-b6e0-3fec7827c50d"
      },
      "source": [
        "plot_history(history)"
      ],
      "execution_count": 30,
      "outputs": [
        {
          "output_type": "display_data",
          "data": {
            "image/png": "[encoded data removed]",
            "text/plain": [
              "<Figure size 432x288 with 1 Axes>"
            ]
          },
          "metadata": {
            "tags": [],
            "needs_background": "light"
          }
        },
        {
          "output_type": "display_data",
          "data": {
            "image/png": "[encoded data removed]",
            "text/plain": [
              "<Figure size 432x288 with 1 Axes>"
            ]
          },
          "metadata": {
            "tags": [],
            "needs_background": "light"
          }
        }
      ]
    },
    {
      "cell_type": "code",
      "metadata": {
        "id": "NoJthA687rwa"
      },
      "source": [
        "def save_model(curr_model, name):\n",
        "    curr_model.save('/content/drive/MyDrive/Models/'+name+'.h5')\n",
        "    curr_model.save('/content/drive/MyDrive/Models/'+name+'.model')"
      ],
      "execution_count": 31,
      "outputs": []
    },
    {
      "cell_type": "code",
      "metadata": {
        "colab": {
          "base_uri": "https://localhost:8080/"
        },
        "id": "d81gn8ci7r4M",
        "outputId": "16b47298-3f80-4c60-fb7a-26b6999a4a0d"
      },
      "source": [
        "save_model(model, 'model_1')"
      ],
      "execution_count": 32,
      "outputs": [
        {
          "output_type": "stream",
          "text": [
            "INFO:tensorflow:Assets written to: /content/drive/MyDrive/Models/model_1.model/assets\n"
          ],
          "name": "stdout"
        }
      ]
    },
    {
      "cell_type": "code",
      "metadata": {
        "id": "kTwK2yad4CU0"
      },
      "source": [
        "from tensorflow.keras.applications.resnet50 import ResNet50\n",
        "from keras import layers\n",
        "RN50 = ResNet50(weights= None, include_top=False, input_shape= (48,48,1))\n",
        "input = RN50.output\n",
        "input = layers.GlobalAveragePooling2D()(input)\n",
        "# input = layers.Dropout(0.2)\n",
        "fpred = layers.Dense(7, activation = 'softmax')(input)\n",
        "model2 = tf.keras.models.Model(inputs = RN50.input, outputs = fpred)"
      ],
      "execution_count": 35,
      "outputs": []
    },
    {
      "cell_type": "code",
      "metadata": {
        "id": "Zu1hlmMc7pqb"
      },
      "source": [
        "model2.compile(\n",
        "  optimizer='adam',\n",
        "  loss=tf.losses.SparseCategoricalCrossentropy(from_logits=True),\n",
        "  metrics=['accuracy'])"
      ],
      "execution_count": 37,
      "outputs": []
    },
    {
      "cell_type": "code",
      "metadata": {
        "colab": {
          "base_uri": "https://localhost:8080/"
        },
        "id": "nqdrM9re-Ga8",
        "outputId": "d853a381-502b-4e5d-e61c-2a3822445e07"
      },
      "source": [
        "history = model2.fit(\n",
        "    X_train, y_train,\n",
        "    epochs = 100,\n",
        "    validation_data=(X_val, y_val),\n",
        "    batch_size = 32\n",
        ")"
      ],
      "execution_count": 38,
      "outputs": [
        {
          "output_type": "stream",
          "text": [
            "Epoch 1/100\n",
            "901/901 [==============================] - 50s 50ms/step - loss: 2.1190 - accuracy: 0.2648 - val_loss: 1.9816 - val_accuracy: 0.3242\n",
            "Epoch 2/100\n",
            "901/901 [==============================] - 43s 48ms/step - loss: 1.6146 - accuracy: 0.4103 - val_loss: 2.2903 - val_accuracy: 0.2920\n",
            "Epoch 3/100\n",
            "901/901 [==============================] - 43s 48ms/step - loss: 1.4767 - accuracy: 0.4513 - val_loss: 2.2855 - val_accuracy: 0.1451\n",
            "Epoch 4/100\n",
            "901/901 [==============================] - 43s 47ms/step - loss: 1.6755 - accuracy: 0.3829 - val_loss: 1.5149 - val_accuracy: 0.4407\n",
            "Epoch 5/100\n",
            "901/901 [==============================] - 43s 48ms/step - loss: 1.3941 - accuracy: 0.4837 - val_loss: 1.7142 - val_accuracy: 0.2634\n",
            "Epoch 6/100\n",
            "901/901 [==============================] - 43s 48ms/step - loss: 1.4188 - accuracy: 0.4704 - val_loss: 2.6928 - val_accuracy: 0.2546\n",
            "Epoch 7/100\n",
            "901/901 [==============================] - 43s 48ms/step - loss: 1.3350 - accuracy: 0.5121 - val_loss: 1.4347 - val_accuracy: 0.4386\n",
            "Epoch 8/100\n",
            "901/901 [==============================] - 43s 48ms/step - loss: 1.1913 - accuracy: 0.5529 - val_loss: 1.3659 - val_accuracy: 0.4673\n",
            "Epoch 9/100\n",
            "901/901 [==============================] - 43s 48ms/step - loss: 1.2375 - accuracy: 0.5436 - val_loss: 1.6514 - val_accuracy: 0.3470\n",
            "Epoch 10/100\n",
            "901/901 [==============================] - 43s 48ms/step - loss: 1.2498 - accuracy: 0.5331 - val_loss: 1.7098 - val_accuracy: 0.4369\n",
            "Epoch 11/100\n",
            "901/901 [==============================] - 43s 47ms/step - loss: 1.1303 - accuracy: 0.5790 - val_loss: 1.2712 - val_accuracy: 0.5259\n",
            "Epoch 12/100\n",
            "901/901 [==============================] - 43s 47ms/step - loss: 0.9799 - accuracy: 0.6341 - val_loss: 1.2014 - val_accuracy: 0.5490\n",
            "Epoch 13/100\n",
            "901/901 [==============================] - 43s 47ms/step - loss: 0.8854 - accuracy: 0.6700 - val_loss: 1.2374 - val_accuracy: 0.5423\n",
            "Epoch 14/100\n",
            "901/901 [==============================] - 43s 47ms/step - loss: 0.7931 - accuracy: 0.7067 - val_loss: 1.4539 - val_accuracy: 0.4999\n",
            "Epoch 15/100\n",
            "901/901 [==============================] - 43s 47ms/step - loss: 0.6877 - accuracy: 0.7436 - val_loss: 1.3044 - val_accuracy: 0.5774\n",
            "Epoch 16/100\n",
            "901/901 [==============================] - 43s 47ms/step - loss: 0.5768 - accuracy: 0.7909 - val_loss: 1.5183 - val_accuracy: 0.5269\n",
            "Epoch 17/100\n",
            "901/901 [==============================] - 43s 47ms/step - loss: 0.4596 - accuracy: 0.8350 - val_loss: 1.5581 - val_accuracy: 0.5603\n",
            "Epoch 18/100\n",
            "901/901 [==============================] - 43s 48ms/step - loss: 0.3753 - accuracy: 0.8665 - val_loss: 1.6675 - val_accuracy: 0.5611\n",
            "Epoch 19/100\n",
            "901/901 [==============================] - 43s 48ms/step - loss: 0.3066 - accuracy: 0.8905 - val_loss: 1.7020 - val_accuracy: 0.5688\n",
            "Epoch 20/100\n",
            "901/901 [==============================] - 43s 47ms/step - loss: 0.2629 - accuracy: 0.9061 - val_loss: 2.0889 - val_accuracy: 0.5405\n",
            "Epoch 21/100\n",
            "901/901 [==============================] - 43s 47ms/step - loss: 0.2261 - accuracy: 0.9213 - val_loss: 1.9591 - val_accuracy: 0.5661\n",
            "Epoch 22/100\n",
            "901/901 [==============================] - 43s 48ms/step - loss: 0.1947 - accuracy: 0.9351 - val_loss: 2.0584 - val_accuracy: 0.5449\n",
            "Epoch 23/100\n",
            "901/901 [==============================] - 43s 47ms/step - loss: 0.1888 - accuracy: 0.9333 - val_loss: 1.9911 - val_accuracy: 0.5701\n",
            "Epoch 24/100\n",
            "901/901 [==============================] - 43s 47ms/step - loss: 0.1468 - accuracy: 0.9506 - val_loss: 2.1940 - val_accuracy: 0.5692\n",
            "Epoch 25/100\n",
            "901/901 [==============================] - 43s 47ms/step - loss: 0.1630 - accuracy: 0.9434 - val_loss: 2.2996 - val_accuracy: 0.5611\n",
            "Epoch 26/100\n",
            "901/901 [==============================] - 43s 47ms/step - loss: 0.1360 - accuracy: 0.9524 - val_loss: 2.2759 - val_accuracy: 0.5669\n",
            "Epoch 27/100\n",
            "901/901 [==============================] - 43s 47ms/step - loss: 0.1054 - accuracy: 0.9630 - val_loss: 2.3288 - val_accuracy: 0.5600\n",
            "Epoch 28/100\n",
            "901/901 [==============================] - 43s 47ms/step - loss: 0.1051 - accuracy: 0.9633 - val_loss: 2.4910 - val_accuracy: 0.5597\n",
            "Epoch 29/100\n",
            "901/901 [==============================] - 43s 47ms/step - loss: 0.1014 - accuracy: 0.9658 - val_loss: 2.2353 - val_accuracy: 0.5684\n",
            "Epoch 30/100\n",
            "901/901 [==============================] - 43s 47ms/step - loss: 0.1016 - accuracy: 0.9662 - val_loss: 2.6406 - val_accuracy: 0.5402\n",
            "Epoch 31/100\n",
            "901/901 [==============================] - 43s 47ms/step - loss: 0.1016 - accuracy: 0.9658 - val_loss: 2.2866 - val_accuracy: 0.5776\n",
            "Epoch 32/100\n",
            "901/901 [==============================] - 43s 47ms/step - loss: 0.0887 - accuracy: 0.9712 - val_loss: 2.4220 - val_accuracy: 0.5610\n",
            "Epoch 33/100\n",
            "901/901 [==============================] - 43s 48ms/step - loss: 0.0798 - accuracy: 0.9717 - val_loss: 2.7446 - val_accuracy: 0.5408\n",
            "Epoch 34/100\n",
            "901/901 [==============================] - 43s 47ms/step - loss: 0.1435 - accuracy: 0.9517 - val_loss: 2.4680 - val_accuracy: 0.5753\n",
            "Epoch 35/100\n",
            "901/901 [==============================] - 43s 47ms/step - loss: 0.0640 - accuracy: 0.9783 - val_loss: 2.4467 - val_accuracy: 0.5623\n",
            "Epoch 36/100\n",
            "901/901 [==============================] - 43s 47ms/step - loss: 0.0752 - accuracy: 0.9738 - val_loss: 2.3959 - val_accuracy: 0.5750\n",
            "Epoch 37/100\n",
            "901/901 [==============================] - 43s 47ms/step - loss: 0.0790 - accuracy: 0.9717 - val_loss: 2.4364 - val_accuracy: 0.5749\n",
            "Epoch 38/100\n",
            "901/901 [==============================] - 43s 47ms/step - loss: 0.0722 - accuracy: 0.9746 - val_loss: 2.6328 - val_accuracy: 0.5766\n",
            "Epoch 39/100\n",
            "901/901 [==============================] - 43s 47ms/step - loss: 0.0716 - accuracy: 0.9758 - val_loss: 2.8844 - val_accuracy: 0.4996\n",
            "Epoch 40/100\n",
            "901/901 [==============================] - 42s 47ms/step - loss: 0.1071 - accuracy: 0.9660 - val_loss: 2.5821 - val_accuracy: 0.5727\n",
            "Epoch 41/100\n",
            "901/901 [==============================] - 43s 47ms/step - loss: 0.0565 - accuracy: 0.9804 - val_loss: 2.6729 - val_accuracy: 0.5723\n",
            "Epoch 42/100\n",
            "901/901 [==============================] - 43s 47ms/step - loss: 0.0663 - accuracy: 0.9766 - val_loss: 2.4760 - val_accuracy: 0.5716\n",
            "Epoch 43/100\n",
            "901/901 [==============================] - 43s 47ms/step - loss: 0.0578 - accuracy: 0.9788 - val_loss: 2.6016 - val_accuracy: 0.5750\n",
            "Epoch 44/100\n",
            "901/901 [==============================] - 42s 47ms/step - loss: 0.0742 - accuracy: 0.9754 - val_loss: 2.5431 - val_accuracy: 0.5831\n",
            "Epoch 45/100\n",
            "901/901 [==============================] - 42s 47ms/step - loss: 0.0476 - accuracy: 0.9831 - val_loss: 2.7573 - val_accuracy: 0.5551\n",
            "Epoch 46/100\n",
            "901/901 [==============================] - 42s 47ms/step - loss: 0.0581 - accuracy: 0.9791 - val_loss: 2.6704 - val_accuracy: 0.5556\n",
            "Epoch 47/100\n",
            "901/901 [==============================] - 42s 47ms/step - loss: 0.0820 - accuracy: 0.9714 - val_loss: 2.8542 - val_accuracy: 0.5655\n",
            "Epoch 48/100\n",
            "901/901 [==============================] - 42s 47ms/step - loss: 0.0514 - accuracy: 0.9810 - val_loss: 2.9217 - val_accuracy: 0.5727\n",
            "Epoch 49/100\n",
            "901/901 [==============================] - 42s 47ms/step - loss: 0.0580 - accuracy: 0.9802 - val_loss: 2.6886 - val_accuracy: 0.5851\n",
            "Epoch 50/100\n",
            "901/901 [==============================] - 42s 47ms/step - loss: 0.0503 - accuracy: 0.9819 - val_loss: 2.7236 - val_accuracy: 0.5743\n",
            "Epoch 51/100\n",
            "901/901 [==============================] - 42s 47ms/step - loss: 0.0506 - accuracy: 0.9824 - val_loss: 2.8018 - val_accuracy: 0.5648\n",
            "Epoch 52/100\n",
            "901/901 [==============================] - 42s 47ms/step - loss: 0.0570 - accuracy: 0.9797 - val_loss: 2.8915 - val_accuracy: 0.5710\n",
            "Epoch 53/100\n",
            "901/901 [==============================] - 42s 47ms/step - loss: 0.0478 - accuracy: 0.9832 - val_loss: 2.9145 - val_accuracy: 0.5702\n",
            "Epoch 54/100\n",
            "901/901 [==============================] - 42s 47ms/step - loss: 0.1288 - accuracy: 0.9596 - val_loss: 2.6182 - val_accuracy: 0.5713\n",
            "Epoch 55/100\n",
            "901/901 [==============================] - 42s 47ms/step - loss: 0.0355 - accuracy: 0.9868 - val_loss: 2.8070 - val_accuracy: 0.5802\n",
            "Epoch 56/100\n",
            "901/901 [==============================] - 42s 47ms/step - loss: 0.0393 - accuracy: 0.9868 - val_loss: 2.7403 - val_accuracy: 0.5686\n",
            "Epoch 57/100\n",
            "901/901 [==============================] - 42s 47ms/step - loss: 0.0495 - accuracy: 0.9822 - val_loss: 2.7505 - val_accuracy: 0.5713\n",
            "Epoch 58/100\n",
            "901/901 [==============================] - 42s 47ms/step - loss: 0.0388 - accuracy: 0.9849 - val_loss: 2.7873 - val_accuracy: 0.5802\n",
            "Epoch 59/100\n",
            "901/901 [==============================] - 42s 47ms/step - loss: 0.0368 - accuracy: 0.9877 - val_loss: 2.8431 - val_accuracy: 0.5807\n",
            "Epoch 60/100\n",
            "901/901 [==============================] - 42s 47ms/step - loss: 0.0424 - accuracy: 0.9856 - val_loss: 2.9809 - val_accuracy: 0.5726\n",
            "Epoch 61/100\n",
            "901/901 [==============================] - 42s 47ms/step - loss: 0.0430 - accuracy: 0.9847 - val_loss: 2.9063 - val_accuracy: 0.5817\n",
            "Epoch 62/100\n",
            "901/901 [==============================] - 42s 47ms/step - loss: 0.0459 - accuracy: 0.9838 - val_loss: 2.9207 - val_accuracy: 0.5551\n",
            "Epoch 63/100\n",
            "901/901 [==============================] - 42s 47ms/step - loss: 0.0378 - accuracy: 0.9873 - val_loss: 2.7734 - val_accuracy: 0.5810\n",
            "Epoch 64/100\n",
            "901/901 [==============================] - 42s 47ms/step - loss: 0.0411 - accuracy: 0.9860 - val_loss: 2.8404 - val_accuracy: 0.5760\n",
            "Epoch 65/100\n",
            "901/901 [==============================] - 42s 47ms/step - loss: 0.0389 - accuracy: 0.9856 - val_loss: 2.8276 - val_accuracy: 0.5812\n",
            "Epoch 66/100\n",
            "901/901 [==============================] - 42s 47ms/step - loss: 0.0564 - accuracy: 0.9804 - val_loss: 2.8383 - val_accuracy: 0.5838\n",
            "Epoch 67/100\n",
            "901/901 [==============================] - 42s 47ms/step - loss: 0.0260 - accuracy: 0.9907 - val_loss: 3.0982 - val_accuracy: 0.5743\n",
            "Epoch 68/100\n",
            "901/901 [==============================] - 42s 47ms/step - loss: 0.0462 - accuracy: 0.9837 - val_loss: 3.0411 - val_accuracy: 0.5725\n",
            "Epoch 69/100\n",
            "901/901 [==============================] - 42s 47ms/step - loss: 0.0363 - accuracy: 0.9866 - val_loss: 2.9986 - val_accuracy: 0.5822\n",
            "Epoch 70/100\n",
            "901/901 [==============================] - 42s 47ms/step - loss: 0.0379 - accuracy: 0.9874 - val_loss: 2.9137 - val_accuracy: 0.5872\n",
            "Epoch 71/100\n",
            "901/901 [==============================] - 42s 47ms/step - loss: 0.0285 - accuracy: 0.9895 - val_loss: 2.9945 - val_accuracy: 0.5828\n",
            "Epoch 72/100\n",
            "901/901 [==============================] - 42s 47ms/step - loss: 0.0392 - accuracy: 0.9862 - val_loss: 2.8875 - val_accuracy: 0.5773\n",
            "Epoch 73/100\n",
            "901/901 [==============================] - 42s 47ms/step - loss: 0.0391 - accuracy: 0.9872 - val_loss: 2.7479 - val_accuracy: 0.5918\n",
            "Epoch 74/100\n",
            "901/901 [==============================] - 43s 47ms/step - loss: 0.0326 - accuracy: 0.9884 - val_loss: 3.0329 - val_accuracy: 0.5826\n",
            "Epoch 75/100\n",
            "901/901 [==============================] - 42s 47ms/step - loss: 0.0270 - accuracy: 0.9902 - val_loss: 3.3125 - val_accuracy: 0.5596\n",
            "Epoch 76/100\n",
            "901/901 [==============================] - 42s 47ms/step - loss: 0.0492 - accuracy: 0.9824 - val_loss: 3.0997 - val_accuracy: 0.5870\n",
            "Epoch 77/100\n",
            "901/901 [==============================] - 42s 47ms/step - loss: 0.0285 - accuracy: 0.9895 - val_loss: 3.1083 - val_accuracy: 0.5577\n",
            "Epoch 78/100\n",
            "901/901 [==============================] - 42s 47ms/step - loss: 0.0333 - accuracy: 0.9874 - val_loss: 2.9771 - val_accuracy: 0.5718\n",
            "Epoch 79/100\n",
            "901/901 [==============================] - 43s 47ms/step - loss: 0.0268 - accuracy: 0.9902 - val_loss: 3.1259 - val_accuracy: 0.5699\n",
            "Epoch 80/100\n",
            "901/901 [==============================] - 42s 47ms/step - loss: 0.0321 - accuracy: 0.9880 - val_loss: 3.1618 - val_accuracy: 0.5730\n",
            "Epoch 81/100\n",
            "901/901 [==============================] - 42s 47ms/step - loss: 0.0317 - accuracy: 0.9883 - val_loss: 3.1335 - val_accuracy: 0.5749\n",
            "Epoch 82/100\n",
            "901/901 [==============================] - 42s 47ms/step - loss: 0.0387 - accuracy: 0.9856 - val_loss: 3.1243 - val_accuracy: 0.5873\n",
            "Epoch 83/100\n",
            "901/901 [==============================] - 42s 47ms/step - loss: 0.0261 - accuracy: 0.9901 - val_loss: 3.1015 - val_accuracy: 0.5650\n",
            "Epoch 84/100\n",
            "901/901 [==============================] - 42s 47ms/step - loss: 0.0293 - accuracy: 0.9890 - val_loss: 3.1233 - val_accuracy: 0.5722\n",
            "Epoch 85/100\n",
            "901/901 [==============================] - 42s 47ms/step - loss: 0.0335 - accuracy: 0.9869 - val_loss: 3.2051 - val_accuracy: 0.5720\n",
            "Epoch 86/100\n",
            "901/901 [==============================] - 42s 47ms/step - loss: 0.0407 - accuracy: 0.9859 - val_loss: 3.1993 - val_accuracy: 0.5241\n",
            "Epoch 87/100\n",
            "901/901 [==============================] - 42s 47ms/step - loss: 0.0275 - accuracy: 0.9910 - val_loss: 3.3161 - val_accuracy: 0.5843\n",
            "Epoch 88/100\n",
            "901/901 [==============================] - 42s 47ms/step - loss: 0.0245 - accuracy: 0.9912 - val_loss: 3.1199 - val_accuracy: 0.5814\n",
            "Epoch 89/100\n",
            "901/901 [==============================] - 42s 47ms/step - loss: 0.0274 - accuracy: 0.9901 - val_loss: 3.2390 - val_accuracy: 0.5698\n",
            "Epoch 90/100\n",
            "901/901 [==============================] - 42s 47ms/step - loss: 0.0250 - accuracy: 0.9907 - val_loss: 3.5680 - val_accuracy: 0.5507\n",
            "Epoch 91/100\n",
            "901/901 [==============================] - 42s 47ms/step - loss: 0.0876 - accuracy: 0.9734 - val_loss: 2.8730 - val_accuracy: 0.5879\n",
            "Epoch 92/100\n",
            "901/901 [==============================] - 43s 47ms/step - loss: 0.0203 - accuracy: 0.9927 - val_loss: 3.0682 - val_accuracy: 0.5797\n",
            "Epoch 93/100\n",
            "901/901 [==============================] - 42s 47ms/step - loss: 0.0239 - accuracy: 0.9910 - val_loss: 3.2767 - val_accuracy: 0.5784\n",
            "Epoch 94/100\n",
            "901/901 [==============================] - 42s 47ms/step - loss: 0.0278 - accuracy: 0.9900 - val_loss: 3.6993 - val_accuracy: 0.5668\n",
            "Epoch 95/100\n",
            "901/901 [==============================] - 42s 47ms/step - loss: 0.0252 - accuracy: 0.9914 - val_loss: 3.3245 - val_accuracy: 0.5764\n",
            "Epoch 96/100\n",
            "901/901 [==============================] - 43s 47ms/step - loss: 0.0240 - accuracy: 0.9920 - val_loss: 3.1488 - val_accuracy: 0.5749\n",
            "Epoch 97/100\n",
            "901/901 [==============================] - 42s 47ms/step - loss: 0.0755 - accuracy: 0.9753 - val_loss: 2.6902 - val_accuracy: 0.5860\n",
            "Epoch 98/100\n",
            "901/901 [==============================] - 43s 47ms/step - loss: 0.0197 - accuracy: 0.9932 - val_loss: 3.0365 - val_accuracy: 0.5778\n",
            "Epoch 99/100\n",
            "901/901 [==============================] - 42s 47ms/step - loss: 0.0137 - accuracy: 0.9950 - val_loss: 3.3678 - val_accuracy: 0.5669\n",
            "Epoch 100/100\n",
            "901/901 [==============================] - 42s 47ms/step - loss: 0.0169 - accuracy: 0.9932 - val_loss: 3.6832 - val_accuracy: 0.5645\n"
          ],
          "name": "stdout"
        }
      ]
    },
    {
      "cell_type": "code",
      "metadata": {
        "colab": {
          "base_uri": "https://localhost:8080/",
          "height": 573
        },
        "id": "s3Gn_YyaOh1w",
        "outputId": "ca644ae9-f294-4205-cd65-eea79ed6214d"
      },
      "source": [
        "plot_history(history)"
      ],
      "execution_count": 39,
      "outputs": [
        {
          "output_type": "display_data",
          "data": {
            "image/png": "[encoded data removed]",
            "text/plain": [
              "<Figure size 432x288 with 1 Axes>"
            ]
          },
          "metadata": {
            "tags": [],
            "needs_background": "light"
          }
        },
        {
          "output_type": "display_data",
          "data": {
            "image/png": "[encoded data removed]",
            "text/plain": [
              "<Figure size 432x288 with 1 Axes>"
            ]
          },
          "metadata": {
            "tags": [],
            "needs_background": "light"
          }
        }
      ]
    },
    {
      "cell_type": "code",
      "metadata": {
        "colab": {
          "base_uri": "https://localhost:8080/"
        },
        "id": "71hIAhllOnnk",
        "outputId": "1ba8756c-018f-44b9-a7c0-16a5216375d5"
      },
      "source": [
        "save_model(model2, 'model_2')"
      ],
      "execution_count": 40,
      "outputs": [
        {
          "output_type": "stream",
          "text": [
            "INFO:tensorflow:Assets written to: /content/drive/MyDrive/Models/model_2.model/assets\n"
          ],
          "name": "stdout"
        }
      ]
    },
    {
      "cell_type": "code",
      "metadata": {
        "id": "NFQCcS5FO9s9"
      },
      "source": [
        ""
      ],
      "execution_count": null,
      "outputs": []
    }
  ]
}