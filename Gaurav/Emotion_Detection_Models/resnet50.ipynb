{
 "cells": [
  {
   "cell_type": "code",
   "execution_count": 1,
   "metadata": {
    "id": "mjLCSWS1ySG_"
   },
   "outputs": [],
   "source": [
    "import numpy as np\n",
    "import os\n",
    "import PIL\n",
    "import PIL.Image\n",
    "import tensorflow as tf\n",
    "import tensorflow_datasets as tfds\n",
    "from tensorflow.keras.applications.resnet50 import ResNet50"
   ]
  },
  {
   "cell_type": "code",
   "execution_count": 2,
   "metadata": {
    "id": "bpNdvHVcyqIK"
   },
   "outputs": [],
   "source": [
    "data_dir = '/content/drive/MyDrive/dataset/main'\n",
    "batch_size = 32\n",
    "img_height = 180\n",
    "img_width = 180"
   ]
  },
  {
   "cell_type": "code",
   "execution_count": 3,
   "metadata": {
    "colab": {
     "base_uri": "https://localhost:8080/"
    },
    "id": "NImpPDTqytaw",
    "outputId": "81c9c971-3d52-4a26-bc6b-ed12e7c77cb3"
   },
   "outputs": [
    {
     "name": "stdout",
     "output_type": "stream",
     "text": [
      "Found 17676 files belonging to 7 classes.\n",
      "Using 14141 files for training.\n"
     ]
    }
   ],
   "source": [
    "train_ds = tf.keras.preprocessing.image_dataset_from_directory(\n",
    "  data_dir,\n",
    "  validation_split=0.2,\n",
    "  subset=\"training\",\n",
    "  seed=123,\n",
    "  image_size=(img_height, img_width),\n",
    "  batch_size=batch_size)"
   ]
  },
  {
   "cell_type": "code",
   "execution_count": 4,
   "metadata": {
    "colab": {
     "base_uri": "https://localhost:8080/"
    },
    "id": "GFCC_MjXyvs9",
    "outputId": "699694ec-3234-4c72-98ed-0331ec402d43"
   },
   "outputs": [
    {
     "name": "stdout",
     "output_type": "stream",
     "text": [
      "Found 17676 files belonging to 7 classes.\n",
      "Using 3535 files for validation.\n"
     ]
    }
   ],
   "source": [
    "val_ds = tf.keras.preprocessing.image_dataset_from_directory(\n",
    "  data_dir,\n",
    "  validation_split=0.2,\n",
    "  subset=\"validation\",\n",
    "  seed=123,\n",
    "  image_size=(img_height, img_width),\n",
    "  batch_size=batch_size)"
   ]
  },
  {
   "cell_type": "code",
   "execution_count": 5,
   "metadata": {
    "id": "C8t0x-CJzBIe"
   },
   "outputs": [],
   "source": [
    "from tensorflow.keras import layers\n",
    "\n",
    "normalization_layer = tf.keras.layers.experimental.preprocessing.Rescaling(1./255)"
   ]
  },
  {
   "cell_type": "code",
   "execution_count": 6,
   "metadata": {
    "colab": {
     "base_uri": "https://localhost:8080/"
    },
    "id": "G7YiBIpFzGKG",
    "outputId": "6a43cb58-2952-495b-a690-fc4e1e5dabcf"
   },
   "outputs": [
    {
     "name": "stdout",
     "output_type": "stream",
     "text": [
      "0.026065798 0.78934014\n"
     ]
    }
   ],
   "source": [
    "normalized_ds = train_ds.map(lambda x, y: (normalization_layer(x), y))\n",
    "image_batch, labels_batch = next(iter(normalized_ds))\n",
    "first_image = image_batch[0]\n",
    "# Notice the pixels values are now in `[0,1]`.\n",
    "print(np.min(first_image), np.max(first_image))"
   ]
  },
  {
   "cell_type": "code",
   "execution_count": 7,
   "metadata": {
    "id": "9s4VxyQ2zInH"
   },
   "outputs": [],
   "source": [
    "AUTOTUNE = tf.data.experimental.AUTOTUNE\n",
    "\n",
    "train_ds = train_ds.cache().prefetch(buffer_size=AUTOTUNE)\n",
    "val_ds = val_ds.cache().prefetch(buffer_size=AUTOTUNE)"
   ]
  },
  {
   "cell_type": "code",
   "execution_count": 8,
   "metadata": {
    "id": "EDPsfxUNzL4g"
   },
   "outputs": [],
   "source": [
    "num_classes = 7"
   ]
  },
  {
   "cell_type": "code",
   "execution_count": 9,
   "metadata": {
    "colab": {
     "base_uri": "https://localhost:8080/"
    },
    "id": "RwgVlmBpzQQr",
    "outputId": "e560cb2d-a404-43fa-cdd7-f0f73b506ebb"
   },
   "outputs": [
    {
     "name": "stdout",
     "output_type": "stream",
     "text": [
      "Downloading data from https://storage.googleapis.com/tensorflow/keras-applications/resnet/resnet50_weights_tf_dim_ordering_tf_kernels_notop.h5\n",
      "94773248/94765736 [==============================] - 1s 0us/step\n"
     ]
    }
   ],
   "source": [
    "RN50 = ResNet50(weights= 'imagenet', include_top=False, input_shape= (img_height,img_width,3))\n",
    "input = RN50.output\n",
    "input = layers.GlobalAveragePooling2D()(input)\n",
    "# input = layers.Dropout(0.2)\n",
    "fpred = layers.Dense(num_classes, activation = 'softmax')(input)\n",
    "model = tf.keras.models.Model(inputs = RN50.input, outputs = fpred)"
   ]
  },
  {
   "cell_type": "code",
   "execution_count": 10,
   "metadata": {
    "id": "xo0D8rIfzS_V"
   },
   "outputs": [],
   "source": [
    "model.compile(\n",
    "  optimizer='adam',\n",
    "  loss=tf.losses.SparseCategoricalCrossentropy(from_logits=True),\n",
    "  metrics=['accuracy'])"
   ]
  },
  {
   "cell_type": "code",
   "execution_count": 11,
   "metadata": {
    "id": "qFYkuPEF0Hfq"
   },
   "outputs": [],
   "source": [
    "class CustomCallbacks(tf.keras.callbacks.Callback):\n",
    "    def on_epoch_end(self, epoch, logs={}):\n",
    "        if(logs.get('val_accuracy')>0.965):\n",
    "            print(\"\\n 96% val_acc reached\")\n",
    "            self.model.stop_training = True"
   ]
  },
  {
   "cell_type": "code",
   "execution_count": 12,
   "metadata": {
    "colab": {
     "base_uri": "https://localhost:8080/"
    },
    "id": "8A3R_TvE0LjS",
    "outputId": "64be27a1-ce02-4149-b84e-9d53566d188e"
   },
   "outputs": [
    {
     "name": "stdout",
     "output_type": "stream",
     "text": [
      "Epoch 1/15\n",
      "442/442 [==============================] - 8788s 20s/step - loss: 1.1549 - accuracy: 0.5893 - val_loss: 1.6092 - val_accuracy: 0.6158\n",
      "Epoch 2/15\n",
      "442/442 [==============================] - 109s 247ms/step - loss: 0.3413 - accuracy: 0.8848 - val_loss: 0.6878 - val_accuracy: 0.7884\n",
      "Epoch 3/15\n",
      "442/442 [==============================] - 109s 247ms/step - loss: 0.2174 - accuracy: 0.9248 - val_loss: 1.0621 - val_accuracy: 0.6557\n",
      "Epoch 4/15\n",
      "442/442 [==============================] - 109s 247ms/step - loss: 0.1408 - accuracy: 0.9507 - val_loss: 0.8915 - val_accuracy: 0.7092\n",
      "Epoch 5/15\n",
      "442/442 [==============================] - 110s 248ms/step - loss: 0.1191 - accuracy: 0.9585 - val_loss: 0.6725 - val_accuracy: 0.7825\n",
      "Epoch 6/15\n",
      "442/442 [==============================] - 110s 248ms/step - loss: 0.1017 - accuracy: 0.9640 - val_loss: 0.5067 - val_accuracy: 0.8328\n",
      "Epoch 7/15\n",
      "442/442 [==============================] - 110s 248ms/step - loss: 0.0732 - accuracy: 0.9750 - val_loss: 0.2125 - val_accuracy: 0.9338\n",
      "Epoch 8/15\n",
      "442/442 [==============================] - 110s 248ms/step - loss: 0.0796 - accuracy: 0.9733 - val_loss: 0.5500 - val_accuracy: 0.8580\n",
      "Epoch 9/15\n",
      "442/442 [==============================] - 109s 247ms/step - loss: 0.0508 - accuracy: 0.9827 - val_loss: 0.3369 - val_accuracy: 0.8829\n",
      "Epoch 10/15\n",
      "442/442 [==============================] - 109s 247ms/step - loss: 0.0477 - accuracy: 0.9827 - val_loss: 0.5278 - val_accuracy: 0.8571\n",
      "Epoch 11/15\n",
      "442/442 [==============================] - 110s 248ms/step - loss: 0.0660 - accuracy: 0.9767 - val_loss: 0.1397 - val_accuracy: 0.9576\n",
      "Epoch 12/15\n",
      "442/442 [==============================] - 109s 248ms/step - loss: 0.0751 - accuracy: 0.9741 - val_loss: 0.2221 - val_accuracy: 0.9287\n",
      "Epoch 13/15\n",
      "442/442 [==============================] - 109s 248ms/step - loss: 0.0318 - accuracy: 0.9886 - val_loss: 0.3594 - val_accuracy: 0.8877\n",
      "Epoch 14/15\n",
      "442/442 [==============================] - 109s 247ms/step - loss: 0.0453 - accuracy: 0.9850 - val_loss: 0.1573 - val_accuracy: 0.9604\n",
      "Epoch 15/15\n",
      "442/442 [==============================] - 109s 247ms/step - loss: 0.0400 - accuracy: 0.9852 - val_loss: 0.5183 - val_accuracy: 0.8521\n"
     ]
    }
   ],
   "source": [
    "history = model.fit(\n",
    "  train_ds,\n",
    "  validation_data=val_ds,\n",
    "  epochs=15,\n",
    "  callbacks = [CustomCallbacks()]\n",
    ")"
   ]
  },
  {
   "cell_type": "code",
   "execution_count": 13,
   "metadata": {
    "colab": {
     "base_uri": "https://localhost:8080/",
     "height": 545
    },
    "id": "84_16vUA0gm3",
    "outputId": "3a8934c5-7e7b-4c86-e2f7-b6febb1f3ddd"
   },
   "outputs": [
    {
     "data": {
      "image/png": "[encoded data removed]",
      "text/plain": [
       "<Figure size 432x288 with 1 Axes>"
      ]
     },
     "metadata": {
      "needs_background": "light",
      "tags": []
     },
     "output_type": "display_data"
    },
    {
     "data": {
      "image/png": "[encoded data removed]",
      "text/plain": [
       "<Figure size 432x288 with 1 Axes>"
      ]
     },
     "metadata": {
      "needs_background": "light",
      "tags": []
     },
     "output_type": "display_data"
    }
   ],
   "source": [
    "import matplotlib.pyplot as plt\n",
    "\n",
    "acc = history.history['accuracy']\n",
    "val_acc = history.history['val_accuracy']\n",
    "loss = history.history['loss']\n",
    "val_loss = history.history['val_loss']\n",
    "\n",
    "epochs = range(len(acc))\n",
    "\n",
    "plt.plot(epochs, acc, label='Training acc')\n",
    "plt.plot(epochs, val_acc, label='Validation acc')\n",
    "plt.title('Training and validation accuracy')\n",
    "plt.legend()\n",
    "\n",
    "plt.figure()\n",
    "\n",
    "plt.plot(epochs, loss, label='Training loss')\n",
    "plt.plot(epochs, val_loss, label='Validation loss')\n",
    "plt.title('Training and validation loss')\n",
    "plt.legend()\n",
    "\n",
    "plt.show()"
   ]
  },
  {
   "cell_type": "code",
   "execution_count": 14,
   "metadata": {
    "colab": {
     "base_uri": "https://localhost:8080/"
    },
    "id": "OTwt884bc1Om",
    "outputId": "870b6957-3c6f-4abd-be3f-a22c4f91e051"
   },
   "outputs": [
    {
     "name": "stdout",
     "output_type": "stream",
     "text": [
      "INFO:tensorflow:Assets written to: /content/drive/MyDrive/ResNet_Model1/assets\n"
     ]
    }
   ],
   "source": [
    "model.save(\"/content/drive/MyDrive/ResNet_Model1\")"
   ]
  },
  {
   "cell_type": "code",
   "execution_count": null,
   "metadata": {
    "id": "qm_58q7BdAFz"
   },
   "outputs": [],
   "source": []
  }
 ],
 "metadata": {
  "accelerator": "GPU",
  "colab": {
   "collapsed_sections": [],
   "name": "resnet50.ipynb",
   "provenance": []
  },
  "kernelspec": {
   "display_name": "Python 3",
   "language": "python",
   "name": "python3"
  },
  "language_info": {
   "codemirror_mode": {
    "name": "ipython",
    "version": 3
   },
   "file_extension": ".py",
   "mimetype": "text/x-python",
   "name": "python",
   "nbconvert_exporter": "python",
   "pygments_lexer": "ipython3",
   "version": "3.7.6"
  }
 },
 "nbformat": 4,
 "nbformat_minor": 1
}
