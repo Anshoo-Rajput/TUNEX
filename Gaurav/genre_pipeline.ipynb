{
 "cells": [
  {
   "cell_type": "code",
   "execution_count": 1,
   "metadata": {},
   "outputs": [],
   "source": [
    "import os\n",
    "import pandas as pd\n",
    "import numpy as np\n",
    "import matplotlib.pyplot as plt\n",
    "import seaborn as sns\n",
    "%matplotlib inline\n",
    "import sklearn\n",
    "\n",
    "#New Libraries for Audio Files\n",
    "import librosa\n",
    "import librosa.display\n",
    "import IPython.display as ipd\n",
    "import warnings\n",
    "warnings.filterwarnings('ignore')"
   ]
  },
  {
   "cell_type": "code",
   "execution_count": 2,
   "metadata": {},
   "outputs": [],
   "source": [
    "def song_feature_extraction(genre_dir):\n",
    "    #loading song from directory\n",
    "    y, sr = librosa.load(genre_dir)\n",
    "    #trimming song\n",
    "    audio_file, _ = librosa.effects.trim(y)\n",
    "    \n",
    "    #length of song\n",
    "    length = np.shape(audio_file)[0]\n",
    "#     print('length -> ',length)\n",
    "    \n",
    "    hop_length = 512\n",
    "    frame_length = 512\n",
    "    \n",
    "    #chroma_stft\n",
    "    chroma_d = librosa.feature.chroma_stft(y=audio_file, sr=sr)\n",
    "    chroma_mean = chroma_d.mean(axis=1)\n",
    "    chroma_var = chroma_d.var(axis=1)\n",
    "    print(np.mean(chroma_mean))\n",
    "    print(np.mean(chroma_var))\n",
    "    \n",
    "    #rms\n",
    "    rms = librosa.feature.rms(audio_file)\n",
    "    rms_mean = np.mean(rms)\n",
    "    rms_var = np.var(rms)\n",
    "    \n",
    "    #Spectral_Centroids\n",
    "    spectral_centroids = librosa.feature.spectral_centroid(y=y, sr=sr)\n",
    "    \n",
    "    #print('spectral_centroids ->',\n",
    "    spectral_centroids_mean = np.mean(spectral_centroids)\n",
    "    spectral_centroids_var = np.var(spectral_centroids)\n",
    "    \n",
    "    #Spectral Bandwidth\n",
    "    spectral_bandwidth = librosa.feature.spectral_bandwidth(y=audio_file)\n",
    "    spectral_bandwidth_mean = np.mean(spectral_bandwidth)\n",
    "    spectral_bandwidth_var = np.var(spectral_bandwidth)\n",
    "    \n",
    "    #Rolloff\n",
    "    spectral_rolloff = librosa.feature.spectral_rolloff(audio_file, sr=sr)[0]\n",
    "    rolloff_mean = np.mean(spectral_rolloff)\n",
    "    rolloff_var = np.var(spectral_rolloff)\n",
    "    \n",
    "    \n",
    "    \n",
    "    #Zero Crossing Rate\n",
    "    zcr = librosa.zero_crossings(audio_file, pad=False)\n",
    "    zcr_mean = zcr.mean()\n",
    "    zcr_var = np.var(zcr)\n",
    "    print(np.var(zcr))\n",
    "    \n",
    "    \n",
    "    #Harmony and Perceptrual\n",
    "    y_harm, y_perc = librosa.effects.hpss(audio_file)\n",
    "    harmony_mean = np.mean(y_harm)\n",
    "    harmony_var = np.var(y_harm)\n",
    "    perceptr_mean = np.mean(y_perc)\n",
    "    perceptr_var = np.var(y_perc)\n",
    "    \n",
    "    #Tempo\n",
    "    tempo, _ = librosa.beat.beat_track(y, sr = sr)\n",
    "    #print(tempo)\n",
    "    \n",
    "    \n",
    "    #mfcc\n",
    "    mfccs = librosa.feature.mfcc(audio_file, sr=sr)\n",
    "    mfcc_mean = mfccs.mean(axis=1)\n",
    "    mfcc_var = mfccs.var(axis=1)\n",
    "    #for i in range(0, 20):\n",
    "        #print(mfcc_mean[i], mfcc_var[i])"
   ]
  },
  {
   "cell_type": "code",
   "execution_count": 4,
   "metadata": {},
   "outputs": [
    {
     "name": "stdout",
     "output_type": "stream",
     "text": [
      "0.35008812\n",
      "0.08488524\n",
      "0.07623964120991217\n"
     ]
    }
   ],
   "source": [
    "song_feature_extraction('genres_original/blues/blues.00000.wav')"
   ]
  },
  {
   "cell_type": "code",
   "execution_count": null,
   "metadata": {},
   "outputs": [],
   "source": [
    "genres_dir = ''"
   ]
  },
  {
   "cell_type": "code",
   "execution_count": null,
   "metadata": {},
   "outputs": [],
   "source": [
    "for i,j,k in os.walk(genre_dir):\n",
    "    genres = j\n",
    "    break\n",
    "genres"
   ]
  },
  {
   "cell_type": "code",
   "execution_count": null,
   "metadata": {},
   "outputs": [],
   "source": [
    "for genre in genres:\n",
    "    curr_dir = genres_dir+'/'+genre\n",
    "    \n",
    "    for i, j, k in os.walk(curr_dir):\n",
    "        features = song_feature_extraction(curr_dir+'/'+k)\n",
    "        songs.append(features)"
   ]
  }
 ],
 "metadata": {
  "kernelspec": {
   "display_name": "Python 3",
   "language": "python",
   "name": "python3"
  },
  "language_info": {
   "codemirror_mode": {
    "name": "ipython",
    "version": 3
   },
   "file_extension": ".py",
   "mimetype": "text/x-python",
   "name": "python",
   "nbconvert_exporter": "python",
   "pygments_lexer": "ipython3",
   "version": "3.7.6"
  }
 },
 "nbformat": 4,
 "nbformat_minor": 4
}
