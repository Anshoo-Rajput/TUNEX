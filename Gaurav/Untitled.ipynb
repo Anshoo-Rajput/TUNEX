{
 "cells": [
  {
   "cell_type": "code",
   "execution_count": 1,
   "metadata": {},
   "outputs": [],
   "source": [
    "import numpy as np\n",
    "import cv2 as cv\n",
    "import argparse\n",
    "from PIL import Image, ImageEnhance, ImageDraw \n",
    "import matplotlib.pyplot as plt\n",
    "import os\n",
    "import tensorflow as tf\n",
    "import keras"
   ]
  },
  {
   "cell_type": "code",
   "execution_count": 2,
   "metadata": {},
   "outputs": [],
   "source": [
    "def ROI(frame):\n",
    "    \n",
    "    face_classifier = cv.CascadeClassifier('haarcascade_frontalface_default.xml')\n",
    "    gray = cv.cvtColor(frame, cv.COLOR_RGB2GRAY)\n",
    "    faces = face_classifier.detectMultiScale(gray, 1.1, 5)\n",
    "    x=0\n",
    "    y=0\n",
    "    w=0\n",
    "    h=0\n",
    "    max_area = 0\n",
    "    for face in faces:\n",
    "        x_t, y_t, w_t, h_t = face\n",
    "        if w_t*h_t>max_area:\n",
    "            max_area = w_t*h_t\n",
    "            x,y,w,h = face\n",
    "    \n",
    "    return x,y,w,h"
   ]
  },
  {
   "cell_type": "code",
   "execution_count": 3,
   "metadata": {},
   "outputs": [],
   "source": [
    "emotion = {\n",
    "    '0' : 'Afraid',\n",
    "    '1' : 'Angry',\n",
    "    '2' : 'Disgust',\n",
    "    '3' : 'Happy',\n",
    "    '4' : 'Neutral',\n",
    "    '5' : 'Sad',\n",
    "    '6' : 'Surprise'\n",
    "}"
   ]
  },
  {
   "cell_type": "code",
   "execution_count": 4,
   "metadata": {},
   "outputs": [],
   "source": [
    "emotion_count = [0 for i in(0,7)]"
   ]
  },
  {
   "cell_type": "code",
   "execution_count": 5,
   "metadata": {},
   "outputs": [],
   "source": [
    "def video_feed(directory):\n",
    "    model = keras.models.load_model(\"6\")\n",
    "    cap = cv.VideoCapture(directory)\n",
    "    t = 0\n",
    "    while True:\n",
    "        try:\n",
    "            ret, frame = cap.read()\n",
    "            cv.imshow(\"Frame\", frame)\n",
    "            x,y,w,h = ROI(frame)\n",
    "            croped_image = frame[x:x+w, y-20:y+h+20]\n",
    "            frame = cv.rectangle(frame, (x,y-20), (x+w, y+h+20), (255,0,0), 2)\n",
    "\n",
    "        \n",
    "            img_array = cv.cvtColor(croped_image, cv.COLOR_BGR2GRAY)/255.0\n",
    "            img_array = cv.resize(img_array, (48,48))\n",
    "            img_array = np.array(img_array)\n",
    "\n",
    "            img_array = img_array.reshape(1, 48, 48, -1)\n",
    "            predictions = model.predict([img_array])\n",
    "            score = tf.nn.softmax(predictions[0])\n",
    "            print(emotion[str(np.argmax(score))])\n",
    "            emotion_count[np.argmax(score)]+=1\n",
    "            \n",
    "            \n",
    "            font = cv.FONT_HERSHEY_SIMPLEX\n",
    "            fontScale = 2\n",
    "            thickness = 4\n",
    "            color = (255, 0, 0)\n",
    "            pos = (50, 50)\n",
    "            frame = cv.putText(frame, emotion[str(np.argmax(score))], pos, font, fontScale, color, thickness, cv.LINE_AA)\n",
    "        except:\n",
    "            pass\n",
    "        #print(t)\n",
    "        #t+=1\n",
    "        cv.imshow(\"Final\", frame)\n",
    "    cap.release()\n",
    "    cv.destroyAllWindows()\n",
    "    return emotion[str(np.argmax(emotion_count))]"
   ]
  },
  {
   "cell_type": "code",
   "execution_count": 6,
   "metadata": {},
   "outputs": [],
   "source": [
    "# genre_emo = {\n",
    "#     'Afraid',\n",
    "#     'Angry',\n",
    "#     'Disgust',\n",
    "#     'Happy',\n",
    "#     'Neutral',\n",
    "#     'Sad',\n",
    "#     'Surprise'\n",
    "# }"
   ]
  },
  {
   "cell_type": "code",
   "execution_count": null,
   "metadata": {},
   "outputs": [
    {
     "name": "stdout",
     "output_type": "stream",
     "text": [
      "Sad\n",
      "Afraid\n",
      "Afraid\n",
      "Afraid\n",
      "Sad\n",
      "Sad\n",
      "Sad\n",
      "Sad\n",
      "Sad\n",
      "Sad\n",
      "Sad\n",
      "Afraid\n",
      "Sad\n",
      "Sad\n",
      "Afraid\n",
      "Afraid\n",
      "Sad\n",
      "Sad\n",
      "Afraid\n",
      "Afraid\n",
      "Afraid\n",
      "Afraid\n",
      "Afraid\n",
      "Afraid\n",
      "Afraid\n",
      "Afraid\n",
      "Afraid\n",
      "Afraid\n",
      "Afraid\n",
      "Sad\n",
      "Afraid\n",
      "Afraid\n",
      "Afraid\n",
      "Afraid\n",
      "Afraid\n",
      "Afraid\n",
      "Sad\n",
      "Afraid\n",
      "Afraid\n",
      "Afraid\n",
      "Afraid\n",
      "Afraid\n",
      "Afraid\n",
      "Sad\n",
      "Afraid\n",
      "Afraid\n",
      "Afraid\n",
      "Afraid\n",
      "Afraid\n",
      "Afraid\n",
      "Afraid\n",
      "Afraid\n",
      "Afraid\n",
      "Afraid\n",
      "Afraid\n",
      "Afraid\n",
      "Afraid\n"
     ]
    }
   ],
   "source": [
    "directory = 'video.mp4'\n",
    "emotion = video_feed(directory)"
   ]
  },
  {
   "cell_type": "code",
   "execution_count": null,
   "metadata": {},
   "outputs": [],
   "source": []
  }
 ],
 "metadata": {
  "kernelspec": {
   "display_name": "Python 3",
   "language": "python",
   "name": "python3"
  },
  "language_info": {
   "codemirror_mode": {
    "name": "ipython",
    "version": 3
   },
   "file_extension": ".py",
   "mimetype": "text/x-python",
   "name": "python",
   "nbconvert_exporter": "python",
   "pygments_lexer": "ipython3",
   "version": "3.7.6"
  }
 },
 "nbformat": 4,
 "nbformat_minor": 4
}
